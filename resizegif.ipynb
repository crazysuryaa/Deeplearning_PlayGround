{
 "cells": [
  {
   "cell_type": "code",
   "execution_count": null,
   "metadata": {},
   "outputs": [],
   "source": [
    "from PIL import Image, ImageSequence\n",
    "\n",
    "# Output (max) size\n",
    "size = 1920, 1080\n",
    "\n",
    "# Open source\n",
    "im = Image.open(\"in.gif\")\n",
    "\n",
    "# Get sequence iterator\n",
    "frames = ImageSequence.Iterator(im)\n",
    "\n",
    "# Wrap on-the-fly thumbnail generator\n",
    "def thumbnails(frames):\n",
    "    for frame in frames:\n",
    "        thumbnail = frame.copy()\n",
    "        thumbnail.thumbnail(size, Image.ANTIALIAS)\n",
    "        yield thumbnail\n",
    "\n",
    "frames = thumbnails(frames)\n",
    "\n",
    "# Save output\n",
    "om = next(frames) # Handle first frame separately\n",
    "om.info = im.info # Copy sequence info\n",
    "om.save(\"out.gif\", save_all=True, append_images=list(frames))"
   ]
  }
 ],
 "metadata": {
  "kernelspec": {
   "display_name": "Python 3",
   "language": "python",
   "name": "python3"
  },
  "language_info": {
   "codemirror_mode": {
    "name": "ipython",
    "version": 3
   },
   "file_extension": ".py",
   "mimetype": "text/x-python",
   "name": "python",
   "nbconvert_exporter": "python",
   "pygments_lexer": "ipython3",
   "version": "3.7.6"
  }
 },
 "nbformat": 4,
 "nbformat_minor": 4
}
