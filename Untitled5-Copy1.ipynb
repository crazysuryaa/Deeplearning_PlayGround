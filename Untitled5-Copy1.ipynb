{
 "cells": [
  {
   "cell_type": "code",
   "execution_count": 1,
   "metadata": {},
   "outputs": [],
   "source": [
    "import tensorflow.keras as keras"
   ]
  },
  {
   "cell_type": "code",
   "execution_count": 2,
   "metadata": {},
   "outputs": [],
   "source": [
    "from tensorflow.keras.layers import *"
   ]
  },
  {
   "cell_type": "code",
   "execution_count": 71,
   "metadata": {},
   "outputs": [],
   "source": [
    "conv1 = Conv2D(filters=32,\n",
    "    kernel_size = 3,\n",
    "    strides=(2, 2),\n",
    "    padding=\"same\",\n",
    "    activation=None)\n",
    "\n",
    "conv2 = Conv2D(filters=32,\n",
    "    kernel_size = 3,\n",
    "    strides=(2, 2),\n",
    "    padding=\"same\",\n",
    "    activation=None)\n",
    "\n",
    "conv3 = Conv2D(filters=32,\n",
    "    kernel_size = 3,\n",
    "    strides=(2, 2),\n",
    "    padding=\"same\",\n",
    "    activation=None)"
   ]
  },
  {
   "cell_type": "code",
   "execution_count": 72,
   "metadata": {},
   "outputs": [],
   "source": [
    "input = Input((224,224,3))"
   ]
  },
  {
   "cell_type": "code",
   "execution_count": 73,
   "metadata": {},
   "outputs": [],
   "source": [
    "dense1 = Dense(1000,\"relu\")\n",
    "dense2 = Dense(10,\"softmax\")"
   ]
  },
  {
   "cell_type": "code",
   "execution_count": null,
   "metadata": {},
   "outputs": [],
   "source": []
  },
  {
   "cell_type": "code",
   "execution_count": 76,
   "metadata": {},
   "outputs": [],
   "source": [
    "nodes = []"
   ]
  },
  {
   "cell_type": "code",
   "execution_count": 77,
   "metadata": {},
   "outputs": [],
   "source": [
    "nodes.append(input)"
   ]
  },
  {
   "cell_type": "code",
   "execution_count": 78,
   "metadata": {},
   "outputs": [],
   "source": [
    "nodes.append(conv1)"
   ]
  },
  {
   "cell_type": "code",
   "execution_count": 79,
   "metadata": {},
   "outputs": [],
   "source": [
    "nodes.append(conv2)"
   ]
  },
  {
   "cell_type": "code",
   "execution_count": 80,
   "metadata": {},
   "outputs": [],
   "source": [
    "nodes.append(conv3)"
   ]
  },
  {
   "cell_type": "code",
   "execution_count": 81,
   "metadata": {},
   "outputs": [],
   "source": [
    "nodes.append(dense1)"
   ]
  },
  {
   "cell_type": "code",
   "execution_count": 82,
   "metadata": {},
   "outputs": [],
   "source": [
    "nodes.append(dense2)"
   ]
  },
  {
   "cell_type": "code",
   "execution_count": 83,
   "metadata": {},
   "outputs": [
    {
     "data": {
      "text/plain": [
       "[<tf.Tensor 'input_5:0' shape=(None, 224, 224, 3) dtype=float32>,\n",
       " <tensorflow.python.keras.layers.convolutional.Conv2D at 0x7fb20bfb6350>,\n",
       " <tensorflow.python.keras.layers.convolutional.Conv2D at 0x7fb20bfbb190>,\n",
       " <tensorflow.python.keras.layers.convolutional.Conv2D at 0x7fb20bef27d0>,\n",
       " <tensorflow.python.keras.layers.core.Dense at 0x7fb210162e10>,\n",
       " <tensorflow.python.keras.layers.core.Dense at 0x7fb210162290>]"
      ]
     },
     "execution_count": 83,
     "metadata": {},
     "output_type": "execute_result"
    }
   ],
   "source": [
    "nodes"
   ]
  },
  {
   "cell_type": "code",
   "execution_count": 84,
   "metadata": {},
   "outputs": [],
   "source": [
    "x = nodes[0]"
   ]
  },
  {
   "cell_type": "code",
   "execution_count": 85,
   "metadata": {},
   "outputs": [],
   "source": [
    "x = nodes[1](x)"
   ]
  },
  {
   "cell_type": "code",
   "execution_count": 86,
   "metadata": {},
   "outputs": [],
   "source": [
    "x = nodes[2](x)"
   ]
  },
  {
   "cell_type": "code",
   "execution_count": null,
   "metadata": {},
   "outputs": [],
   "source": [
    "x = "
   ]
  },
  {
   "cell_type": "code",
   "execution_count": null,
   "metadata": {},
   "outputs": [],
   "source": []
  },
  {
   "cell_type": "code",
   "execution_count": 87,
   "metadata": {},
   "outputs": [
    {
     "name": "stdout",
     "output_type": "stream",
     "text": [
      "<tensorflow.python.keras.layers.convolutional.Conv2D object at 0x7fb20bfb6350>\n",
      "<tensorflow.python.keras.layers.convolutional.Conv2D object at 0x7fb20bfbb190>\n",
      "<tensorflow.python.keras.layers.convolutional.Conv2D object at 0x7fb20bef27d0>\n",
      "<tensorflow.python.keras.layers.core.Dense object at 0x7fb210162e10>\n",
      "<tensorflow.python.keras.layers.core.Dense object at 0x7fb210162290>\n"
     ]
    }
   ],
   "source": [
    "for ind,layer in enumerate(nodes):\n",
    "    if ind == 0:\n",
    "        x = layer\n",
    "    else:\n",
    "        print(layer)\n",
    "        x = layer(x)"
   ]
  },
  {
   "cell_type": "code",
   "execution_count": 88,
   "metadata": {},
   "outputs": [
    {
     "data": {
      "text/plain": [
       "<tf.Tensor 'dense_8/Identity:0' shape=(None, 28, 28, 10) dtype=float32>"
      ]
     },
     "execution_count": 88,
     "metadata": {},
     "output_type": "execute_result"
    }
   ],
   "source": [
    "x"
   ]
  },
  {
   "cell_type": "code",
   "execution_count": null,
   "metadata": {},
   "outputs": [],
   "source": [
    "Model"
   ]
  },
  {
   "cell_type": "code",
   "execution_count": 1,
   "metadata": {},
   "outputs": [],
   "source": [
    "import tensorflow.keras as keras\n",
    "\n",
    "from tensorflow.keras.layers import *"
   ]
  },
  {
   "cell_type": "code",
   "execution_count": 178,
   "metadata": {},
   "outputs": [],
   "source": [
    "class DenseDialog:\n",
    "\n",
    "    def __init__(self, parent,x,y,ind):\n",
    "        global dic\n",
    "        conv =  tk.Toplevel(parent)\n",
    "#         print(x,y)\n",
    "        conv.geometry(\"%dx%d+%d+%d\"% (200,200,x+50,y))\n",
    "        conv.resizable(width = \"False\",height = \"False\")\n",
    "        conv.title(\"dense\")\n",
    "\n",
    "        v1 = StringVar(conv, value='1000')\n",
    "        v2 = StringVar(conv, value='relu')\n",
    "\n",
    "\n",
    "        e1 = Entry(conv, textvariable=v1)\n",
    "        e2 = Entry(conv, textvariable=v2)\n",
    "\n",
    "\n",
    "        l1 = Label(conv,text = \"units\")\n",
    "        l2 = Label(conv,text = \"activation\")\n",
    "\n",
    "\n",
    "\n",
    "        l1.grid(row = 0 , column = 0)\n",
    "        l2.grid(row = 1 , column = 0)\n",
    "\n",
    "\n",
    "        e1.focus_set()\n",
    "        e1.grid(row = 0 , column = 1)\n",
    "        e2.grid(row = 1 , column = 1)\n",
    "\n",
    "        submit = Button(conv,text = \"Submit\",pady = 10)\n",
    "        submit.grid(row = 2 ,columnspan = 2)\n",
    "        submit.bind(\"<ButtonPress-1>\",lambda event,array = [e1,e2] , ind = ind : self.printtext(array,ind))\n",
    "        self.conv = conv\n",
    "        \n",
    "        \n",
    "    def printtext(self,array,ind):\n",
    "        a = array[0].get() \n",
    "        b = array[1].get()\n",
    "#         print(a,b)\n",
    "        \n",
    "        a = int(a)\n",
    "        b = str(b)          \n",
    "        \n",
    "        \n",
    "        if dic[ind][\"name\"].startswith(\"dense\"):\n",
    "#             print(\"appending dense\")\n",
    "            dic[ind][\"Node\"] =  Dense(a,b)\n",
    "        self.conv.destroy()\n",
    "    \n"
   ]
  },
  {
   "cell_type": "code",
   "execution_count": null,
   "metadata": {},
   "outputs": [],
   "source": []
  },
  {
   "cell_type": "code",
   "execution_count": 179,
   "metadata": {},
   "outputs": [],
   "source": [
    "class OutputDialog:\n",
    "\n",
    "    def __init__(self, parent,x,y,ind):\n",
    "        global dic\n",
    "        conv =  tk.Toplevel(parent)\n",
    "#         print(x,y)\n",
    "        conv.geometry(\"%dx%d+%d+%d\"% (200,200,x+50,y))\n",
    "        conv.resizable(width = \"False\",height = \"False\")\n",
    "        conv.title(\"output\")\n",
    "\n",
    "        v1 = StringVar(conv, value='1000')\n",
    "        v2 = StringVar(conv, value='relu')\n",
    "\n",
    "\n",
    "        e1 = Entry(conv, textvariable=v1)\n",
    "        e2 = Entry(conv, textvariable=v2)\n",
    "\n",
    "\n",
    "        l1 = Label(conv,text = \"units\")\n",
    "        l2 = Label(conv,text = \"activation\")\n",
    "\n",
    "\n",
    "\n",
    "        l1.grid(row = 0 , column = 0)\n",
    "        l2.grid(row = 1 , column = 0)\n",
    "\n",
    "\n",
    "        e1.focus_set()\n",
    "        e1.grid(row = 0 , column = 1)\n",
    "        e2.grid(row = 1 , column = 1)\n",
    "\n",
    "        submit = Button(conv,text = \"Submit\",pady = 10)\n",
    "        submit.grid(row = 2 ,columnspan = 2)\n",
    "        submit.bind(\"<ButtonPress-1>\",lambda event,array = [e1,e2] , ind = ind : self.printtext(array,ind))\n",
    "        self.conv = conv\n",
    "        \n",
    "        \n",
    "    def printtext(self,array,ind):\n",
    "        a = array[0].get() \n",
    "        b = array[1].get()\n",
    "#         print(a,b)\n",
    "        \n",
    "        a = int(a)\n",
    "        b = str(b)          \n",
    "        \n",
    "        \n",
    "        if dic[ind][\"name\"].startswith(\"output\"):\n",
    "#             print(\"appending dense\")\n",
    "            dic[ind][\"Node\"] =  Dense(a,b)\n",
    "        self.conv.destroy()\n",
    "    \n"
   ]
  },
  {
   "cell_type": "code",
   "execution_count": 181,
   "metadata": {},
   "outputs": [],
   "source": [
    "class InputDialog:\n",
    "    def __init__(self, parent,x,y,ind):\n",
    "        global dic\n",
    "        conv =  tk.Toplevel(parent)\n",
    "#         print(x,y)\n",
    "        conv.geometry(\"%dx%d+%d+%d\"% (200,200,x+50,y))\n",
    "        conv.resizable(width = \"False\",height = \"False\")\n",
    "        conv.title(\"input\")\n",
    "\n",
    "        v1 = StringVar(conv, value='(224,224,3)')\n",
    "        v2 = StringVar(conv, value='relu')\n",
    "\n",
    "\n",
    "        e1 = Entry(conv, textvariable=v1)\n",
    "        e2 = Entry(conv, textvariable=v2)\n",
    "\n",
    "\n",
    "        l1 = Label(conv,text = \"inputsize\")\n",
    "        l2 = Label(conv,text = \"activation\")\n",
    "\n",
    "\n",
    "\n",
    "        l1.grid(row = 0 , column = 0)\n",
    "#         l2.grid(row = 1 , column = 0)\n",
    "\n",
    "\n",
    "        e1.focus_set()\n",
    "        e1.grid(row = 0 , column = 1)\n",
    "#         e2.grid(row = 1 , column = 1)\n",
    "\n",
    "        submit = Button(conv,text = \"Submit\",pady = 10)\n",
    "        submit.grid(row = 2 ,columnspan = 2)\n",
    "        submit.bind(\"<ButtonPress-1>\",lambda event,array = [e1], ind = ind: self.printtext(array,ind))\n",
    "        self.conv = conv\n",
    "        \n",
    "        \n",
    "#     def printtext(self,array):\n",
    "#         for i in range(len(array)-1):\n",
    "#             print(array[i].get())\n",
    "#         print(array[i-1])\n",
    "#         self.conv.destroy()\n",
    "    def printtext(self,array,ind):\n",
    "        a = array[0].get() \n",
    "        a  = eval(a)\n",
    "#         print(a)\n",
    "\n",
    "        if dic[ind][\"name\"].startswith(\"input\"):\n",
    "#             print(\"appending input model\")\n",
    "            dic[ind][\"Node\"] =  Input(shape= a)\n",
    "        self.conv.destroy()\n",
    "    "
   ]
  },
  {
   "cell_type": "code",
   "execution_count": 182,
   "metadata": {},
   "outputs": [],
   "source": [
    "class ConvDialog:\n",
    "\n",
    "    def __init__(self, parent,x,y,ind):\n",
    "        global dic\n",
    "        conv =  tk.Toplevel(parent)\n",
    "#         print(x,y)\n",
    "        conv.geometry(\"%dx%d+%d+%d\"% (200,200,x+50,y))\n",
    "        conv.resizable(width = \"False\",height = \"False\")\n",
    "        conv.title(\"conv\")\n",
    "        v1 = StringVar(conv, value='64')\n",
    "        v2 = StringVar(conv, value='3')\n",
    "        v3 = StringVar(conv, value='2')\n",
    "        v4 = StringVar(conv, value='same')\n",
    "        v5 = StringVar(conv, value='relu')\n",
    "        v6 = StringVar(conv, value='1')\n",
    "\n",
    "        e1 = Entry(conv, textvariable=v1)\n",
    "        e2 = Entry(conv, textvariable=v2)\n",
    "        e3 = Entry(conv, textvariable=v3)\n",
    "        e4 = Entry(conv, textvariable=v4)\n",
    "        e5 = Entry(conv, textvariable=v5)\n",
    "        e6 = Entry(conv, textvariable=v6)\n",
    "\n",
    "        l1 = Label(conv,text = \"filters\")\n",
    "        l2 = Label(conv,text = \"kernal size\")\n",
    "        l3 = Label(conv,text = \"strides\")\n",
    "        l4 = Label(conv,text = \"padding\")\n",
    "        l5 = Label(conv,text = \"activation\")\n",
    "        l6 = Label(conv,text = \"dilation\")\n",
    "\n",
    "\n",
    "        l1.grid(row = 0 , column = 0)\n",
    "        l2.grid(row = 1 , column = 0)\n",
    "        l3.grid(row = 2 , column = 0)\n",
    "        l4.grid(row = 3 , column = 0)\n",
    "        l5.grid(row = 4 , column = 0)\n",
    "        l6.grid(row = 5 , column = 0)\n",
    "\n",
    "        e1.focus_set()\n",
    "        e1.grid(row = 0 , column = 1)\n",
    "        e2.grid(row = 1 , column = 1)\n",
    "        e3.grid(row = 2 , column = 1)\n",
    "        e4.grid(row = 3 , column = 1)\n",
    "        e5.grid(row = 4 , column = 1)\n",
    "        e6.grid(row = 5 , column = 1)\n",
    "\n",
    "        submit = Button(conv,text = \"Submit\",pady = 10)\n",
    "        submit.grid(row = 6 ,columnspan = 2)\n",
    "        submit.bind(\"<ButtonPress-1>\",lambda event, a = e1 , b = e2 , c = e3,d = e4 ,e = e5 ,f = e6 ,g = 1: self.printtext(a, b, c,d,e,f,g))\n",
    "        self.conv = conv\n",
    "        \n",
    "\n",
    "        submit.bind(\"<ButtonPress-1>\",lambda event,array = [e1,e2,e3,e4,e5,e6] , ind = ind : self.printtext(array,ind))\n",
    "        self.conv = conv\n",
    "        \n",
    "        \n",
    "    def printtext(self,array,ind):\n",
    "        a = array[0].get() \n",
    "        b = array[1].get() \n",
    "        c = array[2].get() \n",
    "        d = array[3].get() \n",
    "        e = array[4].get() \n",
    "        f = array[5].get() \n",
    "#         print(a,b,c,d,e,f)\n",
    "        if dic[ind][\"name\"].startswith(\"conv\"):\n",
    "#             print(\"appending conv model\")\n",
    "            dic[ind][\"Node\"] = Conv2D(  filters = int(a),\n",
    "                                        kernel_size = int(b),\n",
    "                                        strides= int(c),\n",
    "                                        padding= str(d),\n",
    "                                        activation= str(e),\n",
    "                                        dilation_rate= int(f))\n",
    "        self.conv.destroy()"
   ]
  },
  {
   "cell_type": "code",
   "execution_count": null,
   "metadata": {},
   "outputs": [],
   "source": []
  },
  {
   "cell_type": "code",
   "execution_count": 183,
   "metadata": {},
   "outputs": [],
   "source": [
    "from tkinter import *\n",
    "from PIL import Image, ImageTk\n",
    "import tkinter as tk\n",
    "\n",
    "dic = [{} for i in range(20)]\n",
    "graph = [[] for i in range(20)]\n",
    "invgraph = [[] for i in range(20)]\n",
    "nodes = []\n",
    "class Window(Frame):\n",
    "\n",
    "    def __init__(self,bg,master=None):\n",
    "        Frame.__init__(self, master)\n",
    "\n",
    "        self.master = master\n",
    "        \n",
    "        self._drag_data = {\"x\": 0, \"y\": 0, \"item\": None}\n",
    "        self.currenty  = 400\n",
    "        self.currentx = 20\n",
    "        self.frame1 = tk.Frame(self.master, width=1920, height=200, background=\"red\")\n",
    "        \n",
    "        \n",
    "        self.ccnt = 0\n",
    "        self.dcnt = 0\n",
    "        self.acnt = 0\n",
    "        self.icnt = 0\n",
    "        self.ocnt = 0\n",
    "        self.cnt =0\n",
    "        global dic\n",
    "        global graph,invgraph,nodes\n",
    "        invgraph = [[] for i in range(20)]\n",
    "        graph = [[] for i in range(20)]\n",
    "        dic = [{} for i in range(20)]\n",
    "        nodes = []\n",
    "        self.path = []\n",
    "\n",
    "        image = Image.open(\"/home/crazy/buttons1.png\")\n",
    "        bg1 = ImageTk.PhotoImage(image)\n",
    "        image = Image.open(\"/home/crazy/buttons2.png\")\n",
    "        bg2 = ImageTk.PhotoImage(image)\n",
    "        image = Image.open(\"/home/crazy/buttons3.png\")\n",
    "        bg3 = ImageTk.PhotoImage(image)\n",
    "        image = Image.open(\"/home/crazy/buttons4.png\")\n",
    "        bg4 = ImageTk.PhotoImage(image)\n",
    "        image = Image.open(\"/home/crazy/buttons5.png\")\n",
    "        bg5 = ImageTk.PhotoImage(image)\n",
    "\n",
    "        self.b1 = Button(self.frame1,text = \"self.b1\",bg = \"red\",height = 100,image = bg)\n",
    "        self.b2 = Button(self.frame1,text = \"self.b2\",bg = \"white\",height = 100,image = bg)\n",
    "        self.b3 = Button(self.frame1,text = \"self.b3\" , bg = \"green\",height = 100,image = bg)\n",
    "        self.b4 = Button(self.frame1,text = \"self.b4\" , bg = \"yellow\",height = 100,image = bg)\n",
    "        self.b5 = Button(self.frame1,text = \"self.b5\" , bg = \"green\",height = 100,image = bg)\n",
    "        self.b6 = Button(self.frame1,text = \"self.b6\" , bg = \"yellow\",height = 100,image = bg)\n",
    "\n",
    "        self.b1.bind(\"<ButtonPress-1>\",lambda event, a = self.currentx , b =  self.currenty, c=\"black\",d =1 , bg = bg1: self.create_token(a, b, c,d,bg))\n",
    "        self.b2.bind(\"<ButtonPress-1>\",lambda event, a = self.currentx , b =  self.currenty, c=\"red\",d =2 ,bg = bg2: self.create_token(a, b, c,d,bg))\n",
    "        self.b3.bind(\"<ButtonPress-1>\",lambda event, a = self.currentx , b =  self.currenty, c=\"green\",d =3 ,bg = bg3: self.create_token(a, b, c,d,bg))\n",
    "        self.b4.bind(\"<ButtonPress-1>\",lambda event,a = self.currentx , b =  self.currenty, c=\"white\",d =4 ,bg = bg4: self.create_token(a, b, c,d,bg))\n",
    "        self.b5.bind(\"<ButtonPress-1>\",lambda event, a = self.currentx , b =  self.currenty, c=\"yellow\",d =5 ,bg = bg5: self.create_token(a, b, c,d,bg))\n",
    "        self.b6.bind(\"<ButtonPress-1>\",self.printdict)\n",
    "\n",
    "        self.b1.place(relwidth = 0.15,relx = 0)\n",
    "        self.b2.place(relwidth = 0.15,relx = 0.17)\n",
    "        self.b3.place(relwidth = 0.15,relx = 0.34)\n",
    "        self.b4.place(relwidth = 0.15,relx = 0.51)\n",
    "        self.b5.place(relwidth = 0.15,relx = 0.68)\n",
    "        self.b6.place(relwidth = 0.15,relx = 0.85)\n",
    "\n",
    "        self.frame7 = tk.Frame(self.master, width=1920, height = 880, background=\"yellow\")\n",
    "        self.canvas = tk.Canvas(self.frame7,width=1920, height = 880,bg = \"black\")\n",
    "\n",
    "\n",
    "        self.canvas.tag_bind(\"token\", \"<ButtonPress-1>\", self.drag_start)\n",
    "        self.canvas.tag_bind(\"token\", \"<ButtonRelease-1>\", self.drag_stop)\n",
    "        self.canvas.tag_bind(\"token\", \"<B1-Motion>\", self.drag)\n",
    "        self.canvas.bind(\"<Shift-Button-3>\",self.clickedcanvas)\n",
    "\n",
    "        self.canvas.pack()\n",
    "\n",
    "\n",
    "\n",
    "        self.frame1.grid(row = 1 , columnspan = 3)\n",
    "\n",
    "        self.frame7.grid(row = 0, columnspan = 3)\n",
    "\n",
    "        self.canvas.create_image(0, 0, image = bg, anchor = NW)\n",
    "\n",
    "    def drag_start(self, event):\n",
    "        \"\"\"Begining drag of an object\"\"\"\n",
    "        # record the item and its location\n",
    "        self._drag_data[\"item\"] = self.canvas.find_closest(event.x, event.y)[0]\n",
    "        self._drag_data[\"x\"] = event.x\n",
    "        self._drag_data[\"y\"] = event.y\n",
    "#         print(\"initial\",event.x,event.y)\n",
    "\n",
    "    def drag_stop(self, event):\n",
    "        \"\"\"End drag of an object\"\"\"\n",
    "        # reset the drag information\n",
    "        self._drag_data[\"item\"] = None\n",
    "        self._drag_data[\"x\"] = 0\n",
    "        self._drag_data[\"y\"] = 0\n",
    "        i = event.widget.find_withtag('current')[0]\n",
    "        ind = nodes.index(i)\n",
    "        dic[ind][\"x\"] = event.x\n",
    "        dic[ind][\"y\"] = event.y\n",
    "\n",
    "    def drag(self, event):\n",
    "        \"\"\"Handle dragging of an object\"\"\"\n",
    "        # compute how much the mouse has moved\n",
    "        delta_x = event.x - self._drag_data[\"x\"]\n",
    "        delta_y = event.y - self._drag_data[\"y\"]\n",
    "        # move the object the appropriate amount\n",
    "        self.canvas.move(self._drag_data[\"item\"], delta_x, delta_y)\n",
    "        # record the new position\n",
    "        self._drag_data[\"x\"] = event.x\n",
    "        self._drag_data[\"y\"] = event.y\n",
    "#         print(\"final\",event.x,event.y)\n",
    "        \n",
    "        \n",
    "    def create_token(self,x, y, color,label,bg):\n",
    "        \n",
    "        print(\"button \",label,\" is pressed\")\n",
    "#         print(self.currentx)\n",
    "        x = self.currentx\n",
    "        y = self.currenty   \n",
    "        \n",
    "        if label==2:\n",
    "            name = \"conv\"+str(self.ccnt)\n",
    "            self.ccnt +=1\n",
    "            self.currentx +=120\n",
    "        elif label==3:\n",
    "            name = \"dense\"+str(self.dcnt)\n",
    "            self.currentx +=60\n",
    "            self.dcnt +=1\n",
    "        elif label ==4:\n",
    "            name = \"activation\"+str(self.acnt)\n",
    "            self.currentx +=120\n",
    "            self.acnt +=1\n",
    "        elif label ==1:\n",
    "            if self.icnt>=1:\n",
    "                y = self.currenty -120*self.icnt\n",
    "                x = 20\n",
    "                self.icnt +=1\n",
    "            else:\n",
    "                self.currentx +=120\n",
    "                self.icnt +=1\n",
    "            name = \"input\"+str(self.icnt)\n",
    "        elif label ==5:\n",
    "            y = self.currenty -120*self.ocnt\n",
    "            x = 1800\n",
    "            self.ocnt +=1\n",
    "            name =\"output\"+str(self.ocnt)\n",
    "        token = self.canvas.create_image(x,y,image = bg,anchor=NW,tags =(\"token\",))\n",
    "        nodes.append(token)\n",
    "        dic[self.cnt] = {\"x\" : x , \"y\" : y , \"name\": name ,\"Node\" : None , \"next\" :None}\n",
    "        dic[self.cnt] = {\"x\" : x , \"y\" : y , \"name\": name ,\"Node\" : None , \"next\" :None}\n",
    "        self.canvas.tag_bind(token ,'<Double-Button-1>', self.itemClicked)\n",
    "        self.canvas.tag_bind(token,\"<Shift-Button-1>\",self.connect)\n",
    "#         self.canvas.tag_bind(token,\"<KeyRelease>\",self.disconnect)\n",
    "        self.cnt +=1\n",
    "\n",
    "    \n",
    "    def connect(self,event):\n",
    "        canvas_item_id = event.widget.find_withtag('current')[0]\n",
    "        try :\n",
    "            self.path.index(canvas_item_id)\n",
    "            print(\"Node already added\")\n",
    "        except:\n",
    "            self.path.append(canvas_item_id)\n",
    "        print(self.path)\n",
    "    \n",
    "    def clickedcanvas(self,event):\n",
    "#         print(\"addingpath =\",self.path)\n",
    "        if len(self.path) > 1:\n",
    "            for i in range(len(self.path)-1):\n",
    "                n1= nodes.index(self.path[i])\n",
    "                n2 = nodes.index(self.path[i+1])\n",
    "                graph[n1].append(n2)\n",
    "                invgraph[n2].append(n1)\n",
    "                x1 = dic[n1][\"x\"]\n",
    "                y1 = dic[n1][\"y\"]\n",
    "                x2 = dic[n2][\"x\"]\n",
    "                y2 = dic[n2][\"y\"]\n",
    "#                 self.canvas.create_line(x1, y1,x2, y2,fill = \"black\")\n",
    "#                 print(x1,y1,x2,y2)\n",
    "                self.canvas.create_line(x1, y1, x2, y2, fill=\"white\", width=5)\n",
    "            print(\"added path\")\n",
    "        self.path = []\n",
    "        print(self.path)\n",
    "        \n",
    "        \n",
    "    def itemClicked(self,event):\n",
    "        canvas_item_id = event.widget.find_withtag('current')[0]\n",
    "        print('Item', canvas_item_id, 'Clicked!')\n",
    "        ind = nodes.index(canvas_item_id)\n",
    "        if dic[ind][\"name\"].startswith(\"conv\"):\n",
    "            print(\"conv\")\n",
    "            ConvDialog(self.canvas,event.x,event.y,ind)\n",
    "            \n",
    "#         elif dic[ind][\"name\"].startswith(\"act\"):\n",
    "#             print(\"act\")\n",
    "#             dialog = InputDialog(self.canvas,event.x,event.y)\n",
    "\n",
    "        elif dic[ind][\"name\"].startswith(\"dense\"):\n",
    "            print(\"dense\")\n",
    "            DenseDialog(self.canvas,event.x,event.y,ind)\n",
    "            \n",
    "        elif dic[ind][\"name\"].startswith(\"input\"):\n",
    "            print(\"input\")\n",
    "            InputDialog(self.canvas,event.x,event.y,ind)\n",
    "            \n",
    "        elif dic[ind][\"name\"].startswith(\"output\"):\n",
    "            print(\"output\")\n",
    "            OutputDialog(self.canvas,event.x,event.y,ind)\n",
    "        \n",
    "    def printdict(self,event):\n",
    "        print(nodes)\n",
    "        print(dic)\n",
    "        \n",
    "\n",
    "\n",
    "class Mainclass:\n",
    "    def __init__(self):\n",
    "        self.window = tk.Tk()\n",
    "        self.window.attributes('-zoomed', True)  \n",
    "        self.fullScreenState = False\n",
    "        self.window.bind(\"<F11>\", self.toggleFullScreen)\n",
    "        self.window.bind(\"<Escape>\", self.quitFullScreen)\n",
    "        \n",
    "        image = Image.open(\"bg3.png\")\n",
    "        bg = ImageTk.PhotoImage(image)\n",
    "        app = Window(bg=bg,master = self.window)\n",
    "        \n",
    "        self.window.mainloop()\n",
    "\n",
    "    def toggleFullScreen(self, event):\n",
    "        self.fullScreenState = not self.fullScreenState\n",
    "        self.window.attributes(\"-zoomed\", self.fullScreenState)\n",
    "\n",
    "    def quitFullScreen(self, event):\n",
    "        self.fullScreenState = False\n",
    "        self.window.attributes(\"-zoomed\", self.fullScreenState)\n",
    "\n",
    "def toggleFullScreen(event):\n",
    "    fullScreenState = not fullScreenState\n",
    "    root.attributes(\"-zoomed\", fullScreenState)\n",
    "\n",
    "def quitFullScreen(event):\n",
    "    fullScreenState = False\n",
    "    root.attributes(\"-zoomed\", fullScreenState)    \n",
    "            \n",
    "# root = Tk()\n",
    "# root.geometry(\"1880x1080\")\n",
    "# root.resizable(width = \"False\",height = \"False\")\n",
    "\n",
    "\n",
    "# image = Image.open(\"bg3.png\")\n",
    "# bg = ImageTk.PhotoImage(image)\n",
    "# app = Window(bg=bg,master = root)\n",
    "# root.mainloop() "
   ]
  },
  {
   "cell_type": "code",
   "execution_count": 184,
   "metadata": {
    "scrolled": true
   },
   "outputs": [
    {
     "name": "stdout",
     "output_type": "stream",
     "text": [
      "button  1  is pressed\n",
      "button  2  is pressed\n",
      "button  2  is pressed\n",
      "button  3  is pressed\n",
      "button  3  is pressed\n",
      "button  5  is pressed\n",
      "Item 2 Clicked!\n",
      "input\n",
      "Item 3 Clicked!\n",
      "conv\n",
      "Item 4 Clicked!\n",
      "conv\n",
      "Item 5 Clicked!\n",
      "dense\n",
      "Item 6 Clicked!\n",
      "dense\n",
      "Item 7 Clicked!\n",
      "output\n",
      "Item 7 Clicked!\n",
      "output\n",
      "[2]\n",
      "Item 2 Clicked!\n",
      "input\n",
      "Node already added\n",
      "[2]\n",
      "Item 2 Clicked!\n",
      "input\n",
      "Node already added\n",
      "[2]\n",
      "[2, 3]\n",
      "[2, 3, 4]\n",
      "[2, 3, 4, 5]\n",
      "[2, 3, 4, 5, 6]\n",
      "Node already added\n",
      "[2, 3, 4, 5, 6]\n",
      "[2, 3, 4, 5, 6, 7]\n",
      "added path\n",
      "[]\n"
     ]
    },
    {
     "data": {
      "text/plain": [
       "<__main__.Mainclass at 0x7f6eb47982d0>"
      ]
     },
     "execution_count": 184,
     "metadata": {},
     "output_type": "execute_result"
    }
   ],
   "source": [
    "Mainclass()"
   ]
  },
  {
   "cell_type": "code",
   "execution_count": 154,
   "metadata": {},
   "outputs": [
    {
     "data": {
      "text/plain": [
       "[[],\n",
       " [3],\n",
       " [4],\n",
       " [8],\n",
       " [1],\n",
       " [7],\n",
       " [5],\n",
       " [0],\n",
       " [6],\n",
       " [2],\n",
       " [],\n",
       " [],\n",
       " [],\n",
       " [],\n",
       " [],\n",
       " [],\n",
       " [],\n",
       " [],\n",
       " [],\n",
       " []]"
      ]
     },
     "execution_count": 154,
     "metadata": {},
     "output_type": "execute_result"
    }
   ],
   "source": [
    "invgraph"
   ]
  },
  {
   "cell_type": "code",
   "execution_count": 186,
   "metadata": {
    "scrolled": true
   },
   "outputs": [
    {
     "data": {
      "text/plain": [
       "[[1],\n",
       " [2],\n",
       " [3],\n",
       " [4],\n",
       " [5],\n",
       " [],\n",
       " [],\n",
       " [],\n",
       " [],\n",
       " [],\n",
       " [],\n",
       " [],\n",
       " [],\n",
       " [],\n",
       " [],\n",
       " [],\n",
       " [],\n",
       " [],\n",
       " [],\n",
       " []]"
      ]
     },
     "execution_count": 186,
     "metadata": {},
     "output_type": "execute_result"
    }
   ],
   "source": [
    "graph"
   ]
  },
  {
   "cell_type": "code",
   "execution_count": 185,
   "metadata": {},
   "outputs": [
    {
     "data": {
      "text/plain": [
       "[{'x': 73,\n",
       "  'y': 472,\n",
       "  'name': 'input1',\n",
       "  'Node': <tf.Tensor 'input_6:0' shape=(None, 224, 224, 3) dtype=float32>,\n",
       "  'next': None},\n",
       " {'x': 205,\n",
       "  'y': 468,\n",
       "  'name': 'conv0',\n",
       "  'Node': <tensorflow.python.keras.layers.convolutional.Conv2D at 0x7f6eb47a0cd0>,\n",
       "  'next': None},\n",
       " {'x': 314,\n",
       "  'y': 462,\n",
       "  'name': 'conv1',\n",
       "  'Node': <tensorflow.python.keras.layers.convolutional.Conv2D at 0x7f6ed013a050>,\n",
       "  'next': None},\n",
       " {'x': 419,\n",
       "  'y': 490,\n",
       "  'name': 'dense0',\n",
       "  'Node': <tensorflow.python.keras.layers.core.Dense at 0x7f6eb47a0f10>,\n",
       "  'next': None},\n",
       " {'x': 461,\n",
       "  'y': 485,\n",
       "  'name': 'dense1',\n",
       "  'Node': <tensorflow.python.keras.layers.core.Dense at 0x7f6ed013a2d0>,\n",
       "  'next': None},\n",
       " {'x': 1879,\n",
       "  'y': 480,\n",
       "  'name': 'output1',\n",
       "  'Node': <tensorflow.python.keras.layers.core.Dense at 0x7f6eb4746d50>,\n",
       "  'next': None},\n",
       " {},\n",
       " {},\n",
       " {},\n",
       " {},\n",
       " {},\n",
       " {},\n",
       " {},\n",
       " {},\n",
       " {},\n",
       " {},\n",
       " {},\n",
       " {},\n",
       " {},\n",
       " {}]"
      ]
     },
     "execution_count": 185,
     "metadata": {},
     "output_type": "execute_result"
    }
   ],
   "source": [
    "dic"
   ]
  },
  {
   "cell_type": "code",
   "execution_count": null,
   "metadata": {},
   "outputs": [],
   "source": []
  },
  {
   "cell_type": "code",
   "execution_count": 151,
   "metadata": {},
   "outputs": [
    {
     "data": {
      "text/plain": [
       "[4]"
      ]
     },
     "execution_count": 151,
     "metadata": {},
     "output_type": "execute_result"
    }
   ],
   "source": [
    "invgraph[3]"
   ]
  },
  {
   "cell_type": "code",
   "execution_count": 143,
   "metadata": {},
   "outputs": [],
   "source": [
    "dic[graph[7][0]][\"Node\"]"
   ]
  },
  {
   "cell_type": "code",
   "execution_count": 149,
   "metadata": {},
   "outputs": [
    {
     "data": {
      "text/plain": [
       "{'x': 679, 'y': 459, 'name': 'dense1', 'Node': None, 'next': None}"
      ]
     },
     "execution_count": 149,
     "metadata": {},
     "output_type": "execute_result"
    }
   ],
   "source": [
    "dic[2]"
   ]
  },
  {
   "cell_type": "code",
   "execution_count": 190,
   "metadata": {},
   "outputs": [
    {
     "data": {
      "text/plain": [
       "[{'x': 73,\n",
       "  'y': 472,\n",
       "  'name': 'input1',\n",
       "  'Node': <tf.Tensor 'input_6:0' shape=(None, 224, 224, 3) dtype=float32>,\n",
       "  'next': None},\n",
       " {'x': 205,\n",
       "  'y': 468,\n",
       "  'name': 'conv0',\n",
       "  'Node': <tensorflow.python.keras.layers.convolutional.Conv2D at 0x7f6eb47a0cd0>,\n",
       "  'next': None},\n",
       " {'x': 314,\n",
       "  'y': 462,\n",
       "  'name': 'conv1',\n",
       "  'Node': <tensorflow.python.keras.layers.convolutional.Conv2D at 0x7f6ed013a050>,\n",
       "  'next': None},\n",
       " {'x': 419,\n",
       "  'y': 490,\n",
       "  'name': 'dense0',\n",
       "  'Node': <tensorflow.python.keras.layers.core.Dense at 0x7f6eb47a0f10>,\n",
       "  'next': None},\n",
       " {'x': 461,\n",
       "  'y': 485,\n",
       "  'name': 'dense1',\n",
       "  'Node': <tensorflow.python.keras.layers.core.Dense at 0x7f6ed013a2d0>,\n",
       "  'next': None},\n",
       " {'x': 1879,\n",
       "  'y': 480,\n",
       "  'name': 'output1',\n",
       "  'Node': <tensorflow.python.keras.layers.core.Dense at 0x7f6eb4746d50>,\n",
       "  'next': None},\n",
       " {},\n",
       " {},\n",
       " {},\n",
       " {},\n",
       " {},\n",
       " {},\n",
       " {},\n",
       " {},\n",
       " {},\n",
       " {},\n",
       " {},\n",
       " {},\n",
       " {},\n",
       " {}]"
      ]
     },
     "execution_count": 190,
     "metadata": {},
     "output_type": "execute_result"
    }
   ],
   "source": [
    "dic"
   ]
  },
  {
   "cell_type": "code",
   "execution_count": 187,
   "metadata": {},
   "outputs": [],
   "source": [
    "for ind,nodes in enumerate(graph):\n",
    "    if len(nodes)>0:\n",
    "        if ind == 0:\n",
    "            inp = x = dic[0][\"Node\"]\n",
    "            i = graph[0][0]\n",
    "        else:\n",
    "            x = dic[i][\"Node\"](x)\n",
    "            i = graph[i][0]"
   ]
  },
  {
   "cell_type": "code",
   "execution_count": null,
   "metadata": {},
   "outputs": [],
   "source": [
    "model "
   ]
  },
  {
   "cell_type": "code",
   "execution_count": 102,
   "metadata": {},
   "outputs": [
    {
     "name": "stdout",
     "output_type": "stream",
     "text": [
      "[0]\n",
      "[1]\n",
      "[2]\n",
      "[3]\n",
      "[4]\n",
      "[9]\n",
      "[6]\n",
      "[0]\n",
      "[8]\n",
      "[7, 5]\n",
      "[10]\n",
      "[11]\n"
     ]
    }
   ],
   "source": [
    "# for ind,nodes in enumerate(graph):\n",
    "#     if len(nodes)>0:\n",
    "#         print(nodes)\n",
    "#     k.append(dic[i][\"Node\"])\n",
    "#         if ind==0:\n",
    "#             x = inp = dic[i][\"Node\"]\n",
    "#         else:\n",
    "#             x = dic[i][\"Node\"](x)"
   ]
  },
  {
   "cell_type": "code",
   "execution_count": 78,
   "metadata": {},
   "outputs": [],
   "source": [
    "import tensorflow as tf"
   ]
  },
  {
   "cell_type": "code",
   "execution_count": 188,
   "metadata": {},
   "outputs": [],
   "source": [
    "model = tf.keras.models.Model(inp,x)"
   ]
  },
  {
   "cell_type": "code",
   "execution_count": 189,
   "metadata": {},
   "outputs": [
    {
     "name": "stdout",
     "output_type": "stream",
     "text": [
      "Model: \"model_6\"\n",
      "_________________________________________________________________\n",
      "Layer (type)                 Output Shape              Param #   \n",
      "=================================================================\n",
      "input_6 (InputLayer)         [(None, 224, 224, 3)]     0         \n",
      "_________________________________________________________________\n",
      "conv2d_15 (Conv2D)           (None, 112, 112, 64)      1792      \n",
      "_________________________________________________________________\n",
      "conv2d_16 (Conv2D)           (None, 56, 56, 64)        36928     \n",
      "_________________________________________________________________\n",
      "dense_20 (Dense)             (None, 56, 56, 1000)      65000     \n",
      "_________________________________________________________________\n",
      "dense_21 (Dense)             (None, 56, 56, 1000)      1001000   \n",
      "=================================================================\n",
      "Total params: 1,104,720\n",
      "Trainable params: 1,104,720\n",
      "Non-trainable params: 0\n",
      "_________________________________________________________________\n"
     ]
    }
   ],
   "source": [
    "model.summary()"
   ]
  },
  {
   "cell_type": "code",
   "execution_count": null,
   "metadata": {},
   "outputs": [],
   "source": []
  },
  {
   "cell_type": "code",
   "execution_count": 82,
   "metadata": {},
   "outputs": [
    {
     "ename": "NotImplementedError",
     "evalue": "When subclassing the `Model` class, you should implement a `call` method.",
     "output_type": "error",
     "traceback": [
      "\u001b[0;31m---------------------------------------------------------------------------\u001b[0m",
      "\u001b[0;31mNotImplementedError\u001b[0m                       Traceback (most recent call last)",
      "\u001b[0;32m<ipython-input-82-dc66a4291c00>\u001b[0m in \u001b[0;36m<module>\u001b[0;34m\u001b[0m\n\u001b[0;32m----> 1\u001b[0;31m \u001b[0mmodel\u001b[0m\u001b[0;34m.\u001b[0m\u001b[0mbuild\u001b[0m\u001b[0;34m(\u001b[0m\u001b[0;34m(\u001b[0m\u001b[0;36m224\u001b[0m\u001b[0;34m,\u001b[0m\u001b[0;36m224\u001b[0m\u001b[0;34m,\u001b[0m\u001b[0;36m3\u001b[0m\u001b[0;34m)\u001b[0m\u001b[0;34m)\u001b[0m\u001b[0;34m\u001b[0m\u001b[0;34m\u001b[0m\u001b[0m\n\u001b[0m",
      "\u001b[0;32m~/anaconda3/lib/python3.7/site-packages/tensorflow/python/keras/engine/network.py\u001b[0m in \u001b[0;36mbuild\u001b[0;34m(self, input_shape)\u001b[0m\n\u001b[1;32m    683\u001b[0m                            'method accepts an `inputs` argument.')\n\u001b[1;32m    684\u001b[0m         \u001b[0;32mtry\u001b[0m\u001b[0;34m:\u001b[0m\u001b[0;34m\u001b[0m\u001b[0;34m\u001b[0m\u001b[0m\n\u001b[0;32m--> 685\u001b[0;31m           \u001b[0mself\u001b[0m\u001b[0;34m.\u001b[0m\u001b[0mcall\u001b[0m\u001b[0;34m(\u001b[0m\u001b[0mx\u001b[0m\u001b[0;34m,\u001b[0m \u001b[0;34m**\u001b[0m\u001b[0mkwargs\u001b[0m\u001b[0;34m)\u001b[0m\u001b[0;34m\u001b[0m\u001b[0;34m\u001b[0m\u001b[0m\n\u001b[0m\u001b[1;32m    686\u001b[0m         \u001b[0;32mexcept\u001b[0m \u001b[0;34m(\u001b[0m\u001b[0merrors\u001b[0m\u001b[0;34m.\u001b[0m\u001b[0mInvalidArgumentError\u001b[0m\u001b[0;34m,\u001b[0m \u001b[0mTypeError\u001b[0m\u001b[0;34m)\u001b[0m\u001b[0;34m:\u001b[0m\u001b[0;34m\u001b[0m\u001b[0;34m\u001b[0m\u001b[0m\n\u001b[1;32m    687\u001b[0m           raise ValueError('You cannot build your model by calling `build` '\n",
      "\u001b[0;32m~/anaconda3/lib/python3.7/site-packages/tensorflow/python/keras/engine/network.py\u001b[0m in \u001b[0;36mcall\u001b[0;34m(self, inputs, training, mask)\u001b[0m\n\u001b[1;32m    712\u001b[0m     \"\"\"\n\u001b[1;32m    713\u001b[0m     \u001b[0;32mif\u001b[0m \u001b[0;32mnot\u001b[0m \u001b[0mself\u001b[0m\u001b[0;34m.\u001b[0m\u001b[0m_is_graph_network\u001b[0m\u001b[0;34m:\u001b[0m\u001b[0;34m\u001b[0m\u001b[0;34m\u001b[0m\u001b[0m\n\u001b[0;32m--> 714\u001b[0;31m       raise NotImplementedError('When subclassing the `Model` class, you should'\n\u001b[0m\u001b[1;32m    715\u001b[0m                                 ' implement a `call` method.')\n\u001b[1;32m    716\u001b[0m \u001b[0;34m\u001b[0m\u001b[0m\n",
      "\u001b[0;31mNotImplementedError\u001b[0m: When subclassing the `Model` class, you should implement a `call` method."
     ]
    }
   ],
   "source": [
    "model.build((224,224,3))"
   ]
  },
  {
   "cell_type": "code",
   "execution_count": 64,
   "metadata": {
    "scrolled": true
   },
   "outputs": [
    {
     "data": {
      "text/plain": [
       "[[],\n",
       " [0],\n",
       " [1],\n",
       " [2],\n",
       " [3],\n",
       " [4],\n",
       " [5],\n",
       " [6],\n",
       " [7],\n",
       " [8],\n",
       " [],\n",
       " [],\n",
       " [],\n",
       " [],\n",
       " [],\n",
       " [],\n",
       " [],\n",
       " [],\n",
       " [],\n",
       " [],\n",
       " [],\n",
       " [],\n",
       " [],\n",
       " [],\n",
       " [],\n",
       " [],\n",
       " [],\n",
       " [],\n",
       " [],\n",
       " [],\n",
       " [],\n",
       " [],\n",
       " [],\n",
       " [],\n",
       " [],\n",
       " [],\n",
       " [],\n",
       " [],\n",
       " [],\n",
       " [],\n",
       " [],\n",
       " [],\n",
       " [],\n",
       " [],\n",
       " [],\n",
       " [],\n",
       " [],\n",
       " [],\n",
       " [],\n",
       " [],\n",
       " [],\n",
       " [],\n",
       " [],\n",
       " [],\n",
       " [],\n",
       " [],\n",
       " [],\n",
       " [],\n",
       " [],\n",
       " [],\n",
       " [],\n",
       " [],\n",
       " [],\n",
       " [],\n",
       " [],\n",
       " [],\n",
       " [],\n",
       " [],\n",
       " [],\n",
       " [],\n",
       " [],\n",
       " [],\n",
       " [],\n",
       " [],\n",
       " [],\n",
       " [],\n",
       " [],\n",
       " [],\n",
       " [],\n",
       " [],\n",
       " [],\n",
       " [],\n",
       " [],\n",
       " [],\n",
       " [],\n",
       " [],\n",
       " [],\n",
       " [],\n",
       " [],\n",
       " [],\n",
       " [],\n",
       " [],\n",
       " [],\n",
       " [],\n",
       " [],\n",
       " [],\n",
       " [],\n",
       " [],\n",
       " [],\n",
       " []]"
      ]
     },
     "execution_count": 64,
     "metadata": {},
     "output_type": "execute_result"
    }
   ],
   "source": [
    "graph"
   ]
  },
  {
   "cell_type": "code",
   "execution_count": 10,
   "metadata": {},
   "outputs": [],
   "source": [
    "i = [2,3,4,5,6]"
   ]
  },
  {
   "cell_type": "code",
   "execution_count": 11,
   "metadata": {},
   "outputs": [
    {
     "ename": "ValueError",
     "evalue": "7 is not in list",
     "output_type": "error",
     "traceback": [
      "\u001b[0;31m---------------------------------------------------------------------------\u001b[0m",
      "\u001b[0;31mValueError\u001b[0m                                Traceback (most recent call last)",
      "\u001b[0;32m<ipython-input-11-2d96884ac665>\u001b[0m in \u001b[0;36m<module>\u001b[0;34m\u001b[0m\n\u001b[0;32m----> 1\u001b[0;31m \u001b[0mi\u001b[0m\u001b[0;34m.\u001b[0m\u001b[0mindex\u001b[0m\u001b[0;34m(\u001b[0m\u001b[0;36m7\u001b[0m\u001b[0;34m)\u001b[0m\u001b[0;34m\u001b[0m\u001b[0;34m\u001b[0m\u001b[0m\n\u001b[0m",
      "\u001b[0;31mValueError\u001b[0m: 7 is not in list"
     ]
    }
   ],
   "source": [
    "i.index(7)"
   ]
  },
  {
   "cell_type": "code",
   "execution_count": 11,
   "metadata": {},
   "outputs": [
    {
     "ename": "NameError",
     "evalue": "name 'self' is not defined",
     "output_type": "error",
     "traceback": [
      "\u001b[0;31m---------------------------------------------------------------------------\u001b[0m",
      "\u001b[0;31mNameError\u001b[0m                                 Traceback (most recent call last)",
      "\u001b[0;32m<ipython-input-11-963dbabc9bd3>\u001b[0m in \u001b[0;36m<module>\u001b[0;34m\u001b[0m\n\u001b[0;32m----> 1\u001b[0;31m \u001b[0mind\u001b[0m \u001b[0;34m=\u001b[0m \u001b[0mself\u001b[0m\u001b[0;34m.\u001b[0m\u001b[0mnodes\u001b[0m\u001b[0;34m.\u001b[0m\u001b[0mindex\u001b[0m\u001b[0;34m(\u001b[0m\u001b[0;36m3\u001b[0m\u001b[0;34m)\u001b[0m\u001b[0;34m\u001b[0m\u001b[0;34m\u001b[0m\u001b[0m\n\u001b[0m\u001b[1;32m      2\u001b[0m \u001b[0;32mif\u001b[0m \u001b[0mself\u001b[0m\u001b[0;34m.\u001b[0m\u001b[0mmaindic\u001b[0m\u001b[0;34m[\u001b[0m\u001b[0mind\u001b[0m\u001b[0;34m]\u001b[0m\u001b[0;34m[\u001b[0m\u001b[0;34m\"name\"\u001b[0m\u001b[0;34m]\u001b[0m\u001b[0;34m.\u001b[0m\u001b[0mstartswith\u001b[0m\u001b[0;34m(\u001b[0m\u001b[0;34m\"conv\"\u001b[0m\u001b[0;34m)\u001b[0m\u001b[0;34m:\u001b[0m\u001b[0;34m\u001b[0m\u001b[0;34m\u001b[0m\u001b[0m\n\u001b[1;32m      3\u001b[0m     \u001b[0mprint\u001b[0m\u001b[0;34m(\u001b[0m\u001b[0;34m\"conv\"\u001b[0m\u001b[0;34m)\u001b[0m\u001b[0;34m\u001b[0m\u001b[0;34m\u001b[0m\u001b[0m\n\u001b[1;32m      4\u001b[0m \u001b[0;32melif\u001b[0m \u001b[0mself\u001b[0m\u001b[0;34m.\u001b[0m\u001b[0mmaindic\u001b[0m\u001b[0;34m[\u001b[0m\u001b[0mind\u001b[0m\u001b[0;34m]\u001b[0m\u001b[0;34m[\u001b[0m\u001b[0;34m\"name\"\u001b[0m\u001b[0;34m]\u001b[0m\u001b[0;34m.\u001b[0m\u001b[0mstartswith\u001b[0m\u001b[0;34m(\u001b[0m\u001b[0;34m\"act\"\u001b[0m\u001b[0;34m)\u001b[0m\u001b[0;34m:\u001b[0m\u001b[0;34m\u001b[0m\u001b[0;34m\u001b[0m\u001b[0m\n\u001b[1;32m      5\u001b[0m     \u001b[0mprint\u001b[0m\u001b[0;34m(\u001b[0m\u001b[0;34m\"act\"\u001b[0m\u001b[0;34m)\u001b[0m\u001b[0;34m\u001b[0m\u001b[0;34m\u001b[0m\u001b[0m\n",
      "\u001b[0;31mNameError\u001b[0m: name 'self' is not defined"
     ]
    }
   ],
   "source": [
    "ind = self.nodes.index(3)\n",
    "if self.maindic[ind][\"name\"].startswith(\"conv\"):\n",
    "    print(\"conv\")\n",
    "elif self.maindic[ind][\"name\"].startswith(\"act\"):\n",
    "    print(\"act\")\n",
    "elif self.maindic[ind][\"name\"].startswith(\"dense\"):\n",
    "    print(\"dense\")\n",
    "elif self.maindic[ind][\"name\"].startswith(\"input\"):\n",
    "    print(\"input\")\n",
    "elif self.maindic[ind][\"name\"].startswith(\"ouput\"):\n",
    "    print(\"dense\")"
   ]
  },
  {
   "cell_type": "code",
   "execution_count": null,
   "metadata": {},
   "outputs": [],
   "source": []
  },
  {
   "cell_type": "code",
   "execution_count": null,
   "metadata": {},
   "outputs": [],
   "source": [
    "from tkinter import *\n",
    "from PIL import Image, ImageTk\n",
    "import tkinter as tk\n",
    "\n",
    "class Window(Frame):\n",
    "\n",
    "    def __init__(self,bg,master=None):\n",
    "        Frame.__init__(self, master)\n",
    "\n",
    "        self.master = master\n",
    "        \n",
    "        self._drag_data = {\"x\": 0, \"y\": 0, \"item\": None}\n",
    "        self.currenty  = 400\n",
    "        self.currentx = 20\n",
    "        self.frame1 = tk.Frame(self.master, width=1920, height=200, background=\"red\")\n",
    "        \n",
    "        \n",
    "        self.ccnt = 0\n",
    "        self.dcnt = 0\n",
    "        self.acnt = 0\n",
    "        self.icnt = 0\n",
    "        self.ocnt = 0\n",
    "        self.cnt =0\n",
    "        \n",
    "        self.nodes = []\n",
    "\n",
    "        \n",
    "\n",
    "        self.frame7 = tk.Frame(self.master, width=1920, height = 880, background=\"yellow\")\n",
    "        self.canvas = tk.Canvas(self.frame7,width=1920, height = 880,bg = \"black\")\n",
    "\n",
    "\n",
    "        self.canvas.tag_bind(\"token\", \"<ButtonPress-1>\", self.drag_start)\n",
    "        self.canvas.tag_bind(\"token\", \"<ButtonRelease-1>\", self.drag_stop)\n",
    "        self.canvas.tag_bind(\"token\", \"<B1-Motion>\", self.drag)\n",
    "\n",
    "\n",
    "        self.canvas.pack()\n",
    "\n",
    "\n",
    "\n",
    "        self.frame1.grid(row = 1 , columnspan = 3)\n",
    "\n",
    "        self.frame7.grid(row = 0, columnspan = 3)\n",
    "\n",
    "        self.canvas.create_image(0, 0, image = bg, anchor = NW)\n",
    "\n",
    "    def drag_start(self, event):\n",
    "        \"\"\"Begining drag of an object\"\"\"\n",
    "        # record the item and its location\n",
    "        self._drag_data[\"item\"] = self.canvas.find_closest(event.x, event.y)[0]\n",
    "        self._drag_data[\"x\"] = event.x\n",
    "        self._drag_data[\"y\"] = event.y\n",
    "#         print(\"initial\",event.x,event.y)\n",
    "\n",
    "    def drag_stop(self, event):\n",
    "        \"\"\"End drag of an object\"\"\"\n",
    "        # reset the drag information\n",
    "        self._drag_data[\"item\"] = None\n",
    "        self._drag_data[\"x\"] = 0\n",
    "        self._drag_data[\"y\"] = 0\n",
    "\n",
    "    def drag(self, event):\n",
    "        \"\"\"Handle dragging of an object\"\"\"\n",
    "        # compute how much the mouse has moved\n",
    "        delta_x = event.x - self._drag_data[\"x\"]\n",
    "        delta_y = event.y - self._drag_data[\"y\"]\n",
    "        # move the object the appropriate amount\n",
    "        self.canvas.move(self._drag_data[\"item\"], delta_x, delta_y)\n",
    "        # record the new position\n",
    "        self._drag_data[\"x\"] = event.x\n",
    "        self._drag_data[\"y\"] = event.y\n",
    "#         print(\"final\",event.x,event.y)\n",
    "        \n",
    "        \n",
    "    def create_token(self,x, y, color,label,bg):\n",
    "        \n",
    "        print(\"button \",label,\" is pressed\")\n",
    "#         print(self.currentx)\n",
    "        self.cnt +=1\n",
    "        x = self.currentx\n",
    "        y = self.currenty   \n",
    "        \n",
    "        if label==2:\n",
    "#             name = \"conv\"+str(self.ccnt)\n",
    "            self.ccnt +=1\n",
    "            self.currentx +=120\n",
    "        elif label==3:\n",
    "#             name = \"dense\"+str(self.dcnt)\n",
    "            self.currentx +=60\n",
    "            self.dcnt +=1\n",
    "        elif label ==4:\n",
    "#             name = \"activation\"+str(self.acnt)\n",
    "            self.currentx +=120\n",
    "            self.acnt +=1\n",
    "        elif label ==1:\n",
    "            if self.icnt>=1:\n",
    "                y = self.currenty -120*self.icnt\n",
    "                x = 20\n",
    "                self.icnt +=1\n",
    "#             name = \"input\"+str(self.icnt)\n",
    "            else:\n",
    "                self.currentx +=120\n",
    "                self.icnt +=1\n",
    "        elif label ==5:\n",
    "            y = self.currenty -120*self.ocnt\n",
    "            x = 1800\n",
    "            self.ocnt +=1\n",
    "#             name ==\"output\"+str(self.ocnt)\n",
    "        token = self.canvas.create_image(x,y,image = bg,anchor=NW,tags =(\"token\",))\n",
    "        self.nodes.append(token)\n",
    "        self.canvas.tag_bind(token ,'<Double-Button-1>', self.itemClicked)\n",
    "\n",
    "        \n",
    "    def itemClicked(self,event):\n",
    "        canvas_item_id = event.widget.find_withtag('current')[0]\n",
    "        print('Item', canvas_item_id, 'Clicked!')\n",
    "        dialog = InputDialog(self.canvas,event.x,event.y)\n",
    "        \n",
    "    def printdict(self,event):\n",
    "        print(self.nodes)\n",
    "        \n",
    "    def regionOfInterest(self):\n",
    "        root.config(cursor=\"plus\")\n",
    "        canvas.bind(\"<Button-1>\", self.imgClick)\n",
    "\n",
    "\n",
    "    def client_exit(self):\n",
    "        exit()\n",
    "\n",
    "    def imgClick(self, event):\n",
    "        print(self.counter)\n",
    "\n",
    "        if self.counter < 3:\n",
    "            x = canvas.canvasx(event.x)\n",
    "            y = canvas.canvasy(event.y)\n",
    "            self.pos.append((x, y))\n",
    "            print(self.pos)\n",
    "            canvas.create_line(x - 5, y, x + 5, y, fill=\"red\", tags=\"crosshair\")\n",
    "            canvas.create_line(x, y - 5, x, y + 5, fill=\"red\", tags=\"crosshair\")\n",
    "            self.counter += 1\n",
    "        else:\n",
    "            canvas.unbind(\"<Button 1>\")\n",
    "            root.config(cursor=\"arrow\")\n",
    "            self.counter = 0\n",
    "\n",
    "class Mainclass:\n",
    "    def __init__(self):\n",
    "        self.window = tk.Tk()\n",
    "        self.window.attributes('-zoomed', True)  \n",
    "        self.fullScreenState = False\n",
    "        self.window.bind(\"<F11>\", self.toggleFullScreen)\n",
    "        self.window.bind(\"<Escape>\", self.quitFullScreen)\n",
    "        \n",
    "        image = Image.open(\"bg3.png\")\n",
    "        bg = ImageTk.PhotoImage(image)\n",
    "        app = Window(bg=bg,master = self.window)\n",
    "        \n",
    "        self.window.mainloop()\n",
    "\n",
    "    def toggleFullScreen(self, event):\n",
    "        self.fullScreenState = not self.fullScreenState\n",
    "        self.window.attributes(\"-zoomed\", self.fullScreenState)\n",
    "\n",
    "    def quitFullScreen(self, event):\n",
    "        self.fullScreenState = False\n",
    "        self.window.attributes(\"-zoomed\", self.fullScreenState)\n",
    "\n",
    "            \n",
    "            \n",
    "            \n",
    "def toggleFullScreen(event):\n",
    "    fullScreenState = not fullScreenState\n",
    "    root.attributes(\"-zoomed\", fullScreenState)\n",
    "\n",
    "def quitFullScreen(event):\n",
    "    fullScreenState = False\n",
    "    root.attributes(\"-zoomed\", fullScreenState)    \n",
    "            \n",
    "# root = Tk()\n",
    "# root.geometry(\"1880x1080\")\n",
    "# root.resizable(width = \"False\",height = \"False\")\n",
    "\n",
    "\n",
    "# image = Image.open(\"bg3.png\")\n",
    "# bg = ImageTk.PhotoImage(image)\n",
    "# app = Window(bg=bg,master = root)\n",
    "# root.mainloop() "
   ]
  },
  {
   "cell_type": "code",
   "execution_count": null,
   "metadata": {},
   "outputs": [],
   "source": [
    "from collections import defaultdict \n",
    "class Graph: \n",
    "    def __init__(self,vertices): \n",
    "        self.V= vertices  \n",
    "        self.graph = defaultdict(list)  \n",
    "        \n",
    "    def addEdge(self,u,v): \n",
    "        self.graph[u].append(v) \n",
    "\n",
    "    def printAllPathsUtil(self, u, d, visited, path): \n",
    "\n",
    "        visited[u]= True\n",
    "        path.append(u)  \n",
    "        if u ==d: \n",
    "            print(path)\n",
    "        else: \n",
    "            for i in self.graph[u]: \n",
    "                if visited[i]==False: \n",
    "                    self.printAllPathsUtil(i, d, visited, path) \n",
    "        path.pop() \n",
    "        visited[u]= False\n",
    "    def printAllPaths(self,s, d): \n",
    "        visited =[False]*(self.V) \n",
    "        path = [] \n",
    "        self.printAllPathsUtil(s, d,visited, path) \n",
    "\n",
    "\n",
    "g = Graph(4) \n",
    "\n",
    "g.addEdge(0, 1)\n",
    "\n",
    "g.addEdge(1, 2) \n",
    "\n",
    "g = Graph(5) \n",
    "g.addEdge(0, 1) \n",
    "g.addEdge(1, 2) \n",
    "g.addEdge(2, 3) \n",
    "g.addEdge(3, 4) \n",
    "# g.addEdge(2, 1) \n",
    "# g.addEdge(1, 3) \n",
    "   \n",
    "s = 0 ; d = 4\n",
    "print (\"Following are all different paths from %d to %d :\" %(s, d)) \n",
    "g.printAllPaths(s, d) "
   ]
  },
  {
   "cell_type": "code",
   "execution_count": null,
   "metadata": {},
   "outputs": [],
   "source": []
  },
  {
   "cell_type": "code",
   "execution_count": 24,
   "metadata": {},
   "outputs": [],
   "source": [
    "from itertools import count"
   ]
  },
  {
   "cell_type": "code",
   "execution_count": null,
   "metadata": {},
   "outputs": [],
   "source": []
  },
  {
   "cell_type": "code",
   "execution_count": null,
   "metadata": {},
   "outputs": [],
   "source": []
  },
  {
   "cell_type": "code",
   "execution_count": 37,
   "metadata": {},
   "outputs": [],
   "source": [
    "maindic = [{} for i in range(3)]"
   ]
  },
  {
   "cell_type": "code",
   "execution_count": 38,
   "metadata": {},
   "outputs": [],
   "source": [
    "maindic[0] = {\"x\" : 0 , \"y\" : 1 , \"name\": \"conv\" ,\"Node\" : None , \"next\" :None}"
   ]
  },
  {
   "cell_type": "code",
   "execution_count": 39,
   "metadata": {},
   "outputs": [],
   "source": [
    "maindic[1] = {\"x\" : 3 , \"y\" :4 , \"name\": \"conv34\" ,\"Node\" : None , \"next\" :None}"
   ]
  },
  {
   "cell_type": "code",
   "execution_count": 40,
   "metadata": {},
   "outputs": [],
   "source": [
    "maindic[2] = {\"x\" : 5, \"y\" : 3 , \"name\": \"conv423\" ,\"Node\" : None , \"next\" :None}"
   ]
  },
  {
   "cell_type": "code",
   "execution_count": 41,
   "metadata": {},
   "outputs": [
    {
     "data": {
      "text/plain": [
       "[{'x': 0, 'y': 1, 'name': 'conv', 'Node': None, 'next': None},\n",
       " {'x': 3, 'y': 4, 'name': 'conv34', 'Node': None, 'next': None},\n",
       " {'x': 5, 'y': 3, 'name': 'conv423', 'Node': None, 'next': None}]"
      ]
     },
     "execution_count": 41,
     "metadata": {},
     "output_type": "execute_result"
    }
   ],
   "source": [
    "maindic"
   ]
  },
  {
   "cell_type": "code",
   "execution_count": 67,
   "metadata": {},
   "outputs": [],
   "source": [
    "class Parent(object):\n",
    "    base_id = 0\n",
    "    _id = count(0)\n",
    "    def __init__(self):\n",
    "        self.id = self.base_id + next(self._id)\n",
    "        self.maindic = [{} for i in range(3)]\n",
    "        self.maindic[0] = {\"x\" : 0 , \"y\" : 1 , \"name\": \"conv\" ,\"Node\" : None , \"next\" :None}\n",
    "\n",
    "        self.maindic[1] = {\"x\" : 3 , \"y\" :4 , \"name\": \"conv34\" ,\"Node\" : None , \"next\" :None}\n",
    "\n",
    "        self.maindic[2] = {\"x\" : 5, \"y\" : 3 , \"name\": \"conv423\" ,\"Node\" : None , \"next\" :None}\n",
    "\n",
    "class Child1(Parent):\n",
    "    base_id = 100\n",
    "    _id = count(0) \n",
    "    def __init__(self):\n",
    "        Parent.__init__(self)\n",
    "        print('Child1:', self.id)\n",
    "        print(self.maindic)\n",
    "\n",
    "class Child2(Parent):\n",
    "    base_id = 200\n",
    "    _id = count(0) \n",
    "    def __init__(self):\n",
    "        Parent.__init__(self)\n",
    "        print('Child2:', self.id)\n",
    "        self.maindic[0][\"Node\"] = \"fuckit\"\n",
    "        print(self.maindic)\n",
    "        "
   ]
  },
  {
   "cell_type": "code",
   "execution_count": 68,
   "metadata": {},
   "outputs": [
    {
     "name": "stdout",
     "output_type": "stream",
     "text": [
      "Child1: 100\n",
      "[{'x': 0, 'y': 1, 'name': 'conv', 'Node': None, 'next': None}, {'x': 3, 'y': 4, 'name': 'conv34', 'Node': None, 'next': None}, {'x': 5, 'y': 3, 'name': 'conv423', 'Node': None, 'next': None}]\n",
      "Child2: 200\n",
      "[{'x': 0, 'y': 1, 'name': 'conv', 'Node': 'fuckit', 'next': None}, {'x': 3, 'y': 4, 'name': 'conv34', 'Node': None, 'next': None}, {'x': 5, 'y': 3, 'name': 'conv423', 'Node': None, 'next': None}]\n"
     ]
    }
   ],
   "source": [
    "c1 = Child1()                   # 100\n",
    "c2 = Child2()  "
   ]
  },
  {
   "cell_type": "code",
   "execution_count": 69,
   "metadata": {},
   "outputs": [],
   "source": [
    "p = Parent()"
   ]
  },
  {
   "cell_type": "code",
   "execution_count": 71,
   "metadata": {},
   "outputs": [
    {
     "ename": "TypeError",
     "evalue": "__init__() takes 1 positional argument but 2 were given",
     "output_type": "error",
     "traceback": [
      "\u001b[0;31m---------------------------------------------------------------------------\u001b[0m",
      "\u001b[0;31mTypeError\u001b[0m                                 Traceback (most recent call last)",
      "\u001b[0;32m<ipython-input-71-c7d9aa3b51b8>\u001b[0m in \u001b[0;36m<module>\u001b[0;34m\u001b[0m\n\u001b[0;32m----> 1\u001b[0;31m \u001b[0mc1\u001b[0m \u001b[0;34m=\u001b[0m \u001b[0mChild1\u001b[0m\u001b[0;34m(\u001b[0m\u001b[0mp\u001b[0m\u001b[0;34m)\u001b[0m                   \u001b[0;31m# 100\u001b[0m\u001b[0;34m\u001b[0m\u001b[0;34m\u001b[0m\u001b[0m\n\u001b[0m\u001b[1;32m      2\u001b[0m \u001b[0mc2\u001b[0m \u001b[0;34m=\u001b[0m \u001b[0mChild2\u001b[0m\u001b[0;34m(\u001b[0m\u001b[0mp\u001b[0m\u001b[0;34m)\u001b[0m\u001b[0;34m\u001b[0m\u001b[0;34m\u001b[0m\u001b[0m\n",
      "\u001b[0;31mTypeError\u001b[0m: __init__() takes 1 positional argument but 2 were given"
     ]
    }
   ],
   "source": [
    "c1 = Child1(p)                   # 100\n",
    "c2 = Child2(p) "
   ]
  },
  {
   "cell_type": "code",
   "execution_count": 70,
   "metadata": {
    "scrolled": true
   },
   "outputs": [
    {
     "data": {
      "text/plain": [
       "[{'x': 0, 'y': 1, 'name': 'conv', 'Node': None, 'next': None},\n",
       " {'x': 3, 'y': 4, 'name': 'conv34', 'Node': None, 'next': None},\n",
       " {'x': 5, 'y': 3, 'name': 'conv423', 'Node': None, 'next': None}]"
      ]
     },
     "execution_count": 70,
     "metadata": {},
     "output_type": "execute_result"
    }
   ],
   "source": [
    "p.maindic"
   ]
  },
  {
   "cell_type": "code",
   "execution_count": 83,
   "metadata": {},
   "outputs": [],
   "source": [
    "var1 = 0\n",
    "maindic = {\"x\" : 0 , \"y\" : 1 , \"name\": \"conv\" ,\"Node\" : None , \"next\" :None}\n",
    "class class1 :\n",
    "\n",
    "    def meth1 (self):\n",
    "        global var1\n",
    "        global maindic\n",
    "        var1 += 1\n",
    "        maindic[\"x\"] = 100\n",
    "        obj2 = class2()\n",
    "\n",
    "class class2:\n",
    "    def __init__(self):\n",
    "        global maindic\n",
    "        self.meth2()\n",
    "        \n",
    "    def meth2 (self):\n",
    "        print(var1)\n",
    "        maindic[\"conv\"] = \"something\"\n",
    "\n",
    "obj1 = class1()\n",
    "\n",
    "\n"
   ]
  },
  {
   "cell_type": "code",
   "execution_count": 84,
   "metadata": {},
   "outputs": [
    {
     "name": "stdout",
     "output_type": "stream",
     "text": [
      "1\n"
     ]
    }
   ],
   "source": [
    "obj1.meth1()"
   ]
  },
  {
   "cell_type": "code",
   "execution_count": 85,
   "metadata": {},
   "outputs": [
    {
     "data": {
      "text/plain": [
       "{'x': 100,\n",
       " 'y': 1,\n",
       " 'name': 'conv',\n",
       " 'Node': None,\n",
       " 'next': None,\n",
       " 'conv': 'something'}"
      ]
     },
     "execution_count": 85,
     "metadata": {},
     "output_type": "execute_result"
    }
   ],
   "source": [
    "maindic"
   ]
  },
  {
   "cell_type": "code",
   "execution_count": null,
   "metadata": {},
   "outputs": [],
   "source": []
  },
  {
   "cell_type": "code",
   "execution_count": null,
   "metadata": {},
   "outputs": [],
   "source": [
    "key_tracker = KeyTracker()\n",
    "window.bind_all('<KeyPress>', key_tracker.report_key_press)\n",
    "window.bind_all('<KeyRelease>', key_tracker.report_key_release)\n",
    "key_tracker.track('space')"
   ]
  },
  {
   "cell_type": "code",
   "execution_count": null,
   "metadata": {},
   "outputs": [],
   "source": []
  },
  {
   "cell_type": "code",
   "execution_count": null,
   "metadata": {},
   "outputs": [],
   "source": []
  },
  {
   "cell_type": "code",
   "execution_count": null,
   "metadata": {},
   "outputs": [],
   "source": []
  },
  {
   "cell_type": "code",
   "execution_count": null,
   "metadata": {},
   "outputs": [],
   "source": []
  },
  {
   "cell_type": "code",
   "execution_count": null,
   "metadata": {},
   "outputs": [],
   "source": []
  },
  {
   "cell_type": "code",
   "execution_count": null,
   "metadata": {},
   "outputs": [],
   "source": []
  },
  {
   "cell_type": "code",
   "execution_count": null,
   "metadata": {},
   "outputs": [],
   "source": []
  },
  {
   "cell_type": "code",
   "execution_count": null,
   "metadata": {},
   "outputs": [],
   "source": []
  },
  {
   "cell_type": "code",
   "execution_count": null,
   "metadata": {},
   "outputs": [],
   "source": []
  },
  {
   "cell_type": "code",
   "execution_count": null,
   "metadata": {},
   "outputs": [],
   "source": []
  },
  {
   "cell_type": "code",
   "execution_count": null,
   "metadata": {},
   "outputs": [],
   "source": []
  },
  {
   "cell_type": "code",
   "execution_count": null,
   "metadata": {},
   "outputs": [],
   "source": []
  },
  {
   "cell_type": "code",
   "execution_count": null,
   "metadata": {},
   "outputs": [],
   "source": []
  },
  {
   "cell_type": "code",
   "execution_count": null,
   "metadata": {},
   "outputs": [],
   "source": []
  },
  {
   "cell_type": "code",
   "execution_count": null,
   "metadata": {},
   "outputs": [],
   "source": []
  },
  {
   "cell_type": "code",
   "execution_count": null,
   "metadata": {},
   "outputs": [],
   "source": []
  },
  {
   "cell_type": "code",
   "execution_count": null,
   "metadata": {},
   "outputs": [],
   "source": []
  },
  {
   "cell_type": "code",
   "execution_count": null,
   "metadata": {},
   "outputs": [],
   "source": []
  },
  {
   "cell_type": "code",
   "execution_count": null,
   "metadata": {},
   "outputs": [],
   "source": []
  },
  {
   "cell_type": "code",
   "execution_count": null,
   "metadata": {},
   "outputs": [],
   "source": []
  },
  {
   "cell_type": "code",
   "execution_count": null,
   "metadata": {},
   "outputs": [],
   "source": []
  },
  {
   "cell_type": "code",
   "execution_count": null,
   "metadata": {},
   "outputs": [],
   "source": []
  },
  {
   "cell_type": "code",
   "execution_count": null,
   "metadata": {},
   "outputs": [],
   "source": []
  },
  {
   "cell_type": "code",
   "execution_count": null,
   "metadata": {},
   "outputs": [],
   "source": []
  },
  {
   "cell_type": "code",
   "execution_count": null,
   "metadata": {},
   "outputs": [],
   "source": []
  },
  {
   "cell_type": "code",
   "execution_count": null,
   "metadata": {},
   "outputs": [],
   "source": []
  },
  {
   "cell_type": "code",
   "execution_count": null,
   "metadata": {},
   "outputs": [],
   "source": []
  },
  {
   "cell_type": "code",
   "execution_count": null,
   "metadata": {},
   "outputs": [],
   "source": []
  },
  {
   "cell_type": "code",
   "execution_count": null,
   "metadata": {},
   "outputs": [],
   "source": []
  },
  {
   "cell_type": "code",
   "execution_count": null,
   "metadata": {},
   "outputs": [],
   "source": []
  },
  {
   "cell_type": "code",
   "execution_count": null,
   "metadata": {},
   "outputs": [],
   "source": []
  },
  {
   "cell_type": "code",
   "execution_count": null,
   "metadata": {},
   "outputs": [],
   "source": []
  },
  {
   "cell_type": "code",
   "execution_count": null,
   "metadata": {},
   "outputs": [],
   "source": []
  },
  {
   "cell_type": "code",
   "execution_count": null,
   "metadata": {},
   "outputs": [],
   "source": []
  },
  {
   "cell_type": "code",
   "execution_count": null,
   "metadata": {},
   "outputs": [],
   "source": []
  }
 ],
 "metadata": {
  "kernelspec": {
   "display_name": "Python 3",
   "language": "python",
   "name": "python3"
  },
  "language_info": {
   "codemirror_mode": {
    "name": "ipython",
    "version": 3
   },
   "file_extension": ".py",
   "mimetype": "text/x-python",
   "name": "python",
   "nbconvert_exporter": "python",
   "pygments_lexer": "ipython3",
   "version": "3.7.6"
  }
 },
 "nbformat": 4,
 "nbformat_minor": 4
}
