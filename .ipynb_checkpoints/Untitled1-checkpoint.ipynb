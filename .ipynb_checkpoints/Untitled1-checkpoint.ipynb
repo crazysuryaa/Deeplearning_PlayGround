{
 "cells": [
  {
   "cell_type": "code",
   "execution_count": 1,
   "metadata": {},
   "outputs": [],
   "source": [
    "import tkinter as tk\n",
    "from tkinter.ttk import Notebook\n",
    "from tkinter import Canvas\n",
    "from tkinter import messagebox as msg\n",
    "import matplotlib\n",
    "# import numpy as np\n",
    "from matplotlib.figure import Figure\n",
    "from matplotlib.backends.backend_tkagg import FigureCanvasTkAgg\n",
    "matplotlib.use('TkAgg')\n",
    "# from matplotlib.widgets import Slider, Button, RadioButtons\n"
   ]
  },
  {
   "cell_type": "code",
   "execution_count": 2,
   "metadata": {},
   "outputs": [],
   "source": [
    "# from tkinter import *\n",
    "# from tkinter import filedialog\n",
    "# import re\n",
    "\n",
    "# class Window(Frame):\n",
    "#     def __init__(self, master=None):\n",
    "#         Frame.__init__(self, master)\n",
    "#         self.master = master\n",
    "\n",
    "#         self.master.title(\"JoNotepad\")\n",
    "#         self.pack(fill=BOTH, expand=1)\n",
    "\n",
    "#         menu = Menu(top)\n",
    "#         top.config(menu=menu)\n",
    "#         self.file_menu = Menu(menu)\n",
    "#         menu.add_cascade(label=\"File\", menu=self.file_menu)\n",
    "#         self.file_menu.add_command(label=\"New\")\n",
    "#         self.file_menu.add_command(label=\"Open\",      command=self.open_file_function)\n",
    "#         self.file_menu.add_command(label=\"Save\")\n",
    "#         self.file_menu.add_separator()\n",
    "#         self.file_menu.add_command(label=\"Exit\")\n",
    "\n",
    "#         self.text = Text(top, height=200, width=200) #Use Text widget insted of Listbox\n",
    "#         self.text.pack(side=LEFT, fill=Y, expand=True)\n",
    "\n",
    "#         self.scrollbar = Scrollbar(top, orient=\"vertical\")\n",
    "#         self.scrollbar.config(command=self.text.yview)\n",
    "#         self.scrollbar.pack(side=RIGHT, fill=Y, expand=True)\n",
    "\n",
    "#         # change all occurances of self.listNodes to self.text\n",
    "#         self.text.config(yscrollcommand=self.scrollbar.set)\n",
    "\n",
    "\n",
    "#     def open_file_function(self):\n",
    "\n",
    "#         self.file_save = filedialog.askopenfilename(initialdir = \"/\", title = \"Select file\", filetypes = ((\"txt files\", \"*.txt\"), (\"All files\", \"*.*\")))\n",
    "#         with open(self.file_save) as file:\n",
    "#             for i in file:\n",
    "#                 self.text.insert(END, i)\n",
    "\n",
    "\n",
    "# top = Tk()\n",
    "# top.geometry(\"1000x1000\")\n",
    "# ap = Window(top)\n",
    "\n",
    "# top.mainloop()"
   ]
  },
  {
   "cell_type": "code",
   "execution_count": 1,
   "metadata": {},
   "outputs": [],
   "source": [
    "import time "
   ]
  },
  {
   "cell_type": "code",
   "execution_count": 2,
   "metadata": {},
   "outputs": [],
   "source": [
    "import tensorflow as tf"
   ]
  },
  {
   "cell_type": "code",
   "execution_count": 3,
   "metadata": {},
   "outputs": [],
   "source": [
    "from tensorflow.keras.layers import *\n",
    "from tensorflow.keras.models import Model\n",
    "from tensorflow.keras.datasets import mnist\n",
    "import numpy as np"
   ]
  },
  {
   "cell_type": "code",
   "execution_count": 4,
   "metadata": {},
   "outputs": [],
   "source": [
    "(xtrain,ytrain),(xtest,ytest) = mnist.load_data()"
   ]
  },
  {
   "cell_type": "code",
   "execution_count": 5,
   "metadata": {},
   "outputs": [],
   "source": [
    "xtrain = np.expand_dims(xtrain,-1)\n",
    "xtest = np.expand_dims(xtest,-1)\n",
    "xtrain = xtrain/255\n",
    "xtest = xtest/255"
   ]
  },
  {
   "cell_type": "code",
   "execution_count": 6,
   "metadata": {},
   "outputs": [],
   "source": [
    "ytrain = tf.keras.utils.to_categorical(ytrain,10)\n",
    "ytest = tf.keras.utils.to_categorical(ytest,10)"
   ]
  },
  {
   "cell_type": "code",
   "execution_count": null,
   "metadata": {},
   "outputs": [],
   "source": []
  },
  {
   "cell_type": "code",
   "execution_count": 7,
   "metadata": {},
   "outputs": [
    {
     "data": {
      "text/plain": [
       "(60000, 28, 28, 1)"
      ]
     },
     "execution_count": 7,
     "metadata": {},
     "output_type": "execute_result"
    }
   ],
   "source": [
    "xtrain.shape"
   ]
  },
  {
   "cell_type": "code",
   "execution_count": 8,
   "metadata": {},
   "outputs": [],
   "source": [
    "def mymodel():\n",
    "    x = inp  =Input((28,28,1))\n",
    "    x = Conv2D(filters=32,kernel_size= 3,strides= 2, padding=\"same\",activation=\"relu\")(x)\n",
    "    x = Conv2D(filters=64,kernel_size= 3,strides= 2, padding=\"same\",activation=\"relu\")(x)\n",
    "    x = Conv2D(filters=128,kernel_size= 3,strides= 2, padding=\"same\",activation=\"relu\")(x)\n",
    "    x =  Flatten()(x)\n",
    "    x = Dense(256,activation=\"relu\")(x)\n",
    "    x = Dense(128,activation=\"relu\")(x)\n",
    "    x = Dense(10,activation=\"softmax\")(x)\n",
    "    return Model(inp,x)\n",
    "    "
   ]
  },
  {
   "cell_type": "code",
   "execution_count": 9,
   "metadata": {},
   "outputs": [],
   "source": [
    "model = mymodel()"
   ]
  },
  {
   "cell_type": "code",
   "execution_count": 10,
   "metadata": {},
   "outputs": [
    {
     "name": "stdout",
     "output_type": "stream",
     "text": [
      "Model: \"model\"\n",
      "_________________________________________________________________\n",
      "Layer (type)                 Output Shape              Param #   \n",
      "=================================================================\n",
      "input_1 (InputLayer)         [(None, 28, 28, 1)]       0         \n",
      "_________________________________________________________________\n",
      "conv2d (Conv2D)              (None, 14, 14, 32)        320       \n",
      "_________________________________________________________________\n",
      "conv2d_1 (Conv2D)            (None, 7, 7, 64)          18496     \n",
      "_________________________________________________________________\n",
      "conv2d_2 (Conv2D)            (None, 4, 4, 128)         73856     \n",
      "_________________________________________________________________\n",
      "flatten (Flatten)            (None, 2048)              0         \n",
      "_________________________________________________________________\n",
      "dense (Dense)                (None, 256)               524544    \n",
      "_________________________________________________________________\n",
      "dense_1 (Dense)              (None, 128)               32896     \n",
      "_________________________________________________________________\n",
      "dense_2 (Dense)              (None, 10)                1290      \n",
      "=================================================================\n",
      "Total params: 651,402\n",
      "Trainable params: 651,402\n",
      "Non-trainable params: 0\n",
      "_________________________________________________________________\n"
     ]
    }
   ],
   "source": [
    "model.summary()"
   ]
  },
  {
   "cell_type": "code",
   "execution_count": 11,
   "metadata": {},
   "outputs": [],
   "source": [
    "model.compile(optimizer= \"Adam\",loss=tf.keras.losses.categorical_crossentropy,metrics = [\"accuracy\"])"
   ]
  },
  {
   "cell_type": "code",
   "execution_count": 12,
   "metadata": {},
   "outputs": [],
   "source": [
    "import matplotlib.pyplot as plt\n",
    "import matplotlib\n",
    "\n",
    "matplotlib.use('TkAgg')"
   ]
  },
  {
   "cell_type": "code",
   "execution_count": 13,
   "metadata": {},
   "outputs": [],
   "source": [
    "batchsize = 128"
   ]
  },
  {
   "cell_type": "code",
   "execution_count": 14,
   "metadata": {},
   "outputs": [],
   "source": [
    "steps =int(len(xtrain)/batchsize)"
   ]
  },
  {
   "cell_type": "code",
   "execution_count": 15,
   "metadata": {},
   "outputs": [
    {
     "data": {
      "text/plain": [
       "468"
      ]
     },
     "execution_count": 15,
     "metadata": {},
     "output_type": "execute_result"
    }
   ],
   "source": [
    "steps"
   ]
  },
  {
   "cell_type": "code",
   "execution_count": 16,
   "metadata": {},
   "outputs": [],
   "source": [
    "# def train():\n",
    "#     fig = plt.figure(figsize=(8,8))\n",
    "#     ax1 = fig.add_subplot(2,1,1)\n",
    "#     ax2 =fig.add_subplot(2,1,2)\n",
    "#     lossx = []\n",
    "#     acc = []\n",
    "#     c = 0\n",
    "#     for i in range(1,steps):\n",
    "#         [loss,bacc] = model.train_on_batch(x= xtrain[0+i*batchsize:batchsize+i*batchsize],\n",
    "#                                            y = ytrain[0+i*batchsize:batchsize+i*batchsize])\n",
    "    \n",
    "#         if i in [50,100,150,200,250,300,350,400]:\n",
    "#             acc = []\n",
    "#             lossx = []\n",
    "#             ax1.cla() \n",
    "#             ax2.cla()\n",
    "#             c=i-1\n",
    "#         y = np.arange(i-c)\n",
    "#         lossx.append(loss)\n",
    "#         acc.append(bacc)  \n",
    "#         ax1.plot(y, lossx)\n",
    "#         ax1.set(xlabel='step no', ylabel='loss')\n",
    "#         ax2.plot(y,acc)\n",
    "#         ax2.set(xlabel='step no', ylabel='accuracy')\n",
    "#         fig.canvas.draw()\n",
    "#     plt.close('all')"
   ]
  },
  {
   "cell_type": "code",
   "execution_count": 17,
   "metadata": {},
   "outputs": [],
   "source": [
    "def train():\n",
    "    fig = plt.figure(figsize=(8,8))\n",
    "    ax1 = fig.add_subplot(2,1,1)\n",
    "    ax2 =fig.add_subplot(2,1,2)\n",
    "    lossx = []\n",
    "    acc = []\n",
    "    c = 0\n",
    "    lis  = [x*20 for x in range(1,24)]\n",
    "    for epoch in range(10):\n",
    "        lossx = []\n",
    "        acc = []\n",
    "        c = 0\n",
    "        start = time.time()\n",
    "        for i in range(1,steps):\n",
    "            [loss,bacc] = model.train_on_batch(x= xtrain[0+i*batchsize:batchsize+i*batchsize],\n",
    "                                               y = ytrain[0+i*batchsize:batchsize+i*batchsize])\n",
    "\n",
    "            if i in lis:\n",
    "                acc = []\n",
    "                lossx = []\n",
    "                ax1.cla() \n",
    "                ax2.cla()\n",
    "                c=i-1\n",
    "            y = np.arange(i-c)\n",
    "            lossx.append(loss)\n",
    "            acc.append(bacc)  \n",
    "            ax1.plot(y, lossx)\n",
    "            ax1.set(xlabel='step no', ylabel='loss')\n",
    "            ax2.plot(y,acc)\n",
    "            ax2.set(xlabel='step no', ylabel='accuracy')\n",
    "            fig.canvas.draw()\n",
    "        stop = time.time()\n",
    "        print(\"epoch:\",epoch ,loss,bacc)\n",
    "        print(\"time ===\",stop-start)\n",
    "    plt.close('all')"
   ]
  },
  {
   "cell_type": "code",
   "execution_count": null,
   "metadata": {},
   "outputs": [],
   "source": []
  },
  {
   "cell_type": "code",
   "execution_count": null,
   "metadata": {},
   "outputs": [
    {
     "name": "stdout",
     "output_type": "stream",
     "text": [
      "epoch: 0 0.011468560434877872 1.0\n",
      "time === 30.45750904083252\n",
      "epoch: 1 0.004438129253685474 1.0\n",
      "time === 40.12761449813843\n",
      "epoch: 2 0.0012265703408047557 1.0\n",
      "time === 48.686789989471436\n",
      "epoch: 3 0.0012257536873221397 1.0\n",
      "time === 48.0070161819458\n",
      "epoch: 4 0.002091941423714161 1.0\n",
      "time === 31.531222820281982\n"
     ]
    }
   ],
   "source": [
    "train()"
   ]
  },
  {
   "cell_type": "code",
   "execution_count": 16,
   "metadata": {},
   "outputs": [],
   "source": [
    "def trainreal():\n",
    "    for epoch in range(10):\n",
    "        start = time.time()\n",
    "        for i in range(1,steps):\n",
    "            [loss,bacc] = model.train_on_batch(x= xtrain[0+i*batchsize:batchsize+i*batchsize],\n",
    "                                               y = ytrain[0+i*batchsize:batchsize+i*batchsize])\n",
    "        stop = time.time()\n",
    "        print(\"epoch:\",epoch ,loss,bacc)\n",
    "        print(\"time ===\",stop-start)"
   ]
  },
  {
   "cell_type": "code",
   "execution_count": 17,
   "metadata": {
    "scrolled": false
   },
   "outputs": [
    {
     "name": "stdout",
     "output_type": "stream",
     "text": [
      "epoch: 0 0.005662878975272179 1.0\n",
      "time === 9.92608642578125\n",
      "epoch: 1 0.010821737349033356 0.9921875\n",
      "time === 9.651857852935791\n",
      "epoch: 2 0.0070518627762794495 1.0\n",
      "time === 10.071816682815552\n",
      "epoch: 3 0.0005315303569659591 1.0\n",
      "time === 10.157549619674683\n",
      "epoch: 4 0.003451497992500663 1.0\n",
      "time === 10.33743405342102\n",
      "epoch: 5 0.00025263329735025764 1.0\n",
      "time === 10.358152389526367\n",
      "epoch: 6 0.00626089982688427 0.9921875\n",
      "time === 11.168211936950684\n",
      "epoch: 7 1.4745518456038553e-05 1.0\n",
      "time === 11.927699089050293\n",
      "epoch: 8 0.004851994104683399 1.0\n",
      "time === 11.967164278030396\n",
      "epoch: 9 0.0223638117313385 0.9921875\n",
      "time === 11.934361457824707\n"
     ]
    }
   ],
   "source": [
    "# start = time.time()\n",
    "trainreal()\n",
    "# stop = time.time()\n",
    "# print(stop-start)"
   ]
  },
  {
   "cell_type": "code",
   "execution_count": null,
   "metadata": {},
   "outputs": [],
   "source": []
  },
  {
   "cell_type": "code",
   "execution_count": null,
   "metadata": {},
   "outputs": [],
   "source": []
  },
  {
   "cell_type": "code",
   "execution_count": null,
   "metadata": {},
   "outputs": [],
   "source": [
    "lossx = []\n",
    "acc = []\n",
    "fig, axs = plt.subplots(2)\n",
    "fig.suptitle('Vertically stacked subplots')\n",
    "y = np.arange(steps)\n",
    "c=0\n",
    "for i in range(1,steps):\n",
    "    [loss,bacc] = model.train_on_batch(x= xtrain[0+i*batchsize:batchsize+i*batchsize],y = ytrain[0+i*batchsize:batchsize+i*batchsize])\n",
    "    \n",
    "    if i in [50,100,150,200,250,300,350,400]:\n",
    "        acc = []\n",
    "        lossx = []\n",
    "        axs[0].cla() \n",
    "        axs[1].cla()\n",
    "        c=i-1\n",
    "    y = np.arange(i-c)\n",
    "    lossx.append(loss)\n",
    "    acc.append(bacc)\n",
    "    \n",
    "#     plt.plot(y,lossx)\n",
    "#     plt.show()\n",
    "    \n",
    "    axs[0].plot(y, lossx)\n",
    "    axs[0].set(xlabel='step no', ylabel='loss')\n",
    "    axs[1].plot(y,acc)\n",
    "    axs[1].set(xlabel='step no', ylabel='accuracy')\n",
    "    \n",
    "    plt.show()\n",
    "    fig.canvas.draw()\n",
    "plt.close('all')\n"
   ]
  },
  {
   "cell_type": "code",
   "execution_count": null,
   "metadata": {},
   "outputs": [],
   "source": []
  },
  {
   "cell_type": "code",
   "execution_count": 3,
   "metadata": {},
   "outputs": [],
   "source": [
    "# import matplotlib.pyplot as plt\n",
    "# matplotlib.use('TkAgg')\n",
    "# x = [1, 2, 3, 4, 5]\n",
    "# y = [1, 4, 9, 16, 25]\n",
    "# fig = Figure()\n",
    "# fig.add_subplot(111)\n",
    "# # plt.scatter(x, y)\n",
    "# plt.plot(x,y)\n",
    "# plt.show()\n",
    "# # fig.canvas.draw()\n",
    "# # plt.close(\"all\")"
   ]
  },
  {
   "cell_type": "code",
   "execution_count": 4,
   "metadata": {},
   "outputs": [],
   "source": [
    "# plt.close(\"all\")"
   ]
  },
  {
   "cell_type": "code",
   "execution_count": 1,
   "metadata": {},
   "outputs": [],
   "source": [
    "import numpy as np"
   ]
  },
  {
   "cell_type": "code",
   "execution_count": 2,
   "metadata": {},
   "outputs": [],
   "source": [
    "import matplotlib.pyplot as plt\n",
    "import matplotlib\n",
    "\n",
    "matplotlib.use('TkAgg')"
   ]
  },
  {
   "cell_type": "code",
   "execution_count": 3,
   "metadata": {},
   "outputs": [],
   "source": [
    "def train():\n",
    "    fig = plt.figure(figsize=(8,8))\n",
    "    ax1 = fig.add_subplot(2,1,1)\n",
    "    ax2 =fig.add_subplot(2,1,2)\n",
    "    lossx = []\n",
    "    acc = []\n",
    "    for i in range(1,100):\n",
    "        loss = np.random.normal(0,1)\n",
    "        bacc = np.random.normal(0,1)\n",
    "        y = np.arange(i)\n",
    "        lossx.append(loss)\n",
    "        acc.append(bacc)\n",
    "        ax1.plot(y, lossx)\n",
    "        ax1.set(xlabel='step no', ylabel='loss')\n",
    "        ax2.plot(y,acc)\n",
    "        ax2.set(xlabel='step no', ylabel='accuracy')\n",
    "        fig.canvas.draw()\n",
    "    plt.close('all')"
   ]
  },
  {
   "cell_type": "code",
   "execution_count": 4,
   "metadata": {},
   "outputs": [],
   "source": [
    "train()"
   ]
  },
  {
   "cell_type": "code",
   "execution_count": null,
   "metadata": {},
   "outputs": [],
   "source": []
  },
  {
   "cell_type": "code",
   "execution_count": null,
   "metadata": {},
   "outputs": [],
   "source": []
  },
  {
   "cell_type": "code",
   "execution_count": 6,
   "metadata": {},
   "outputs": [],
   "source": [
    "\n",
    "def plotfunc(fig,axs):\n",
    "    \n",
    "    lossx = []\n",
    "    acc = []\n",
    "#     fig, axs = plt.subplots(2)\n",
    "    fig.suptitle('Vertically stacked subplots')\n",
    "    c=0\n",
    "    for i in range(1,100):\n",
    "        loss = np.random.normal(0,1)\n",
    "        bacc = np.random.normal(0,1)\n",
    "        y = np.arange(i)\n",
    "        lossx.append(loss)\n",
    "        acc.append(bacc)\n",
    "\n",
    "    #     plt.plot(y,lossx)\n",
    "    #     plt.show()\n",
    "\n",
    "        axs[0].plot(y, lossx)\n",
    "        axs[0].set(xlabel='step no', ylabel='loss')\n",
    "        axs[1].plot(y,acc)\n",
    "        axs[1].set(xlabel='step no', ylabel='accuracy')\n",
    "#         fig.show()\n",
    "        fig.canvas.draw()\n"
   ]
  },
  {
   "cell_type": "code",
   "execution_count": 20,
   "metadata": {},
   "outputs": [],
   "source": [
    "plt.close('all')"
   ]
  },
  {
   "cell_type": "code",
   "execution_count": 38,
   "metadata": {},
   "outputs": [],
   "source": [
    "fig = plt.figure(figsize=(8,8))"
   ]
  },
  {
   "cell_type": "code",
   "execution_count": 42,
   "metadata": {},
   "outputs": [],
   "source": []
  },
  {
   "cell_type": "code",
   "execution_count": 39,
   "metadata": {},
   "outputs": [],
   "source": [
    "x = [1, 2, 3, 4, 5]\n",
    "y = [1, 4, 9, 16, 25]\n",
    "ax1 = fig.add_subplot(3,2,1)\n",
    "ax2 =fig.add_subplot(3,2,2)\n",
    "ax3 =fig.add_subplot(3,2,3)\n",
    "ax4 =fig.add_subplot(3,2,4)\n",
    "ax1.plot(x,y)\n",
    "ax2.plot(x,y)\n",
    "ax3.plot(x,y)\n",
    "ax4.plot(x,y)\n",
    "fig.show()"
   ]
  },
  {
   "cell_type": "code",
   "execution_count": 46,
   "metadata": {},
   "outputs": [
    {
     "data": {
      "text/plain": [
       "[<matplotlib.lines.Line2D at 0x7f2c14055650>]"
      ]
     },
     "execution_count": 46,
     "metadata": {},
     "output_type": "execute_result"
    }
   ],
   "source": []
  },
  {
   "cell_type": "code",
   "execution_count": 7,
   "metadata": {},
   "outputs": [],
   "source": [
    "def plotf(fig):\n",
    "    x = [1, 2, 3, 4, 5]\n",
    "    y = [1, 4, 9, 16, 25]\n",
    "    ax1 = fig.add_subplot(3,2,1)\n",
    "    ax2 =fig.add_subplot(3,2,2)\n",
    "    ax3 =fig.add_subplot(3,2,3)\n",
    "    ax4 =fig.add_subplot(3,2,4)\n",
    "    ax1.plot(x,y)\n",
    "    ax2.plot(x,y)\n",
    "    ax3.plot(x,y)\n",
    "    ax4.plot(x,y)\n",
    "    fig.canvas.draw()\n",
    "#     fig.show()"
   ]
  },
  {
   "cell_type": "code",
   "execution_count": null,
   "metadata": {},
   "outputs": [],
   "source": []
  },
  {
   "cell_type": "code",
   "execution_count": null,
   "metadata": {},
   "outputs": [],
   "source": [
    "gui = tk.Tk()\n",
    "gui.title('Luke Outline')\n",
    "gui.geometry('600x400')\n",
    "# notebook = Notebook(gui)\n",
    "graph_tab = tk.Frame(gui)\n",
    "graph_tab = tk.Canvas(graph_tab)\n",
    "graph_tab.pack(side=tk.TOP, expand=1)\n",
    "# notebook.add(graph_tab, text='Graph')\n",
    "# notebook.pack(fill=tk.BOTH, expand=1)\n",
    "fig = Figure()\n",
    "graph = FigureCanvasTkAgg(fig,graph_tab)\n",
    "graph.get_tk_widget().pack(side='top',fill='both',expand=True)\n",
    "plotf(fig)\n",
    "gui.mainloop()"
   ]
  },
  {
   "cell_type": "code",
   "execution_count": 8,
   "metadata": {},
   "outputs": [
    {
     "data": {
      "image/png": "[encoded data removed]",
      "text/plain": [
       "<Figure size 432x288 with 1 Axes>"
      ]
     },
     "metadata": {
      "needs_background": "light"
     },
     "output_type": "display_data"
    }
   ],
   "source": [
    "import matplotlib.pyplot as plt\n",
    "import matplotlib\n",
    "matplotlib.use('TkAgg')\n",
    "x = [1, 2, 3, 4, 5]\n",
    "y = [1, 4, 9, 16, 25]\n",
    "fig = plt.figure()\n",
    "fig.add_subplot(111)\n",
    "plt.scatter(x, y)\n",
    "fig.canvas.draw()\n",
    "plt.show()"
   ]
  },
  {
   "cell_type": "code",
   "execution_count": null,
   "metadata": {},
   "outputs": [],
   "source": [
    "plt.close(\"all\")"
   ]
  },
  {
   "cell_type": "code",
   "execution_count": 8,
   "metadata": {},
   "outputs": [
    {
     "ename": "TclError",
     "evalue": "can't add .!frame2.!canvas as slave of .!notebook2",
     "output_type": "error",
     "traceback": [
      "\u001b[0;31m---------------------------------------------------------------------------\u001b[0m",
      "\u001b[0;31mTclError\u001b[0m                                  Traceback (most recent call last)",
      "\u001b[0;32m<ipython-input-8-d04f1a8217d0>\u001b[0m in \u001b[0;36m<module>\u001b[0;34m\u001b[0m\n\u001b[1;32m      6\u001b[0m \u001b[0mgraph_tab\u001b[0m \u001b[0;34m=\u001b[0m \u001b[0mtk\u001b[0m\u001b[0;34m.\u001b[0m\u001b[0mCanvas\u001b[0m\u001b[0;34m(\u001b[0m\u001b[0mgraph_tab\u001b[0m\u001b[0;34m)\u001b[0m\u001b[0;34m\u001b[0m\u001b[0;34m\u001b[0m\u001b[0m\n\u001b[1;32m      7\u001b[0m \u001b[0mgraph_tab\u001b[0m\u001b[0;34m.\u001b[0m\u001b[0mpack\u001b[0m\u001b[0;34m(\u001b[0m\u001b[0mside\u001b[0m\u001b[0;34m=\u001b[0m\u001b[0mtk\u001b[0m\u001b[0;34m.\u001b[0m\u001b[0mTOP\u001b[0m\u001b[0;34m,\u001b[0m \u001b[0mexpand\u001b[0m\u001b[0;34m=\u001b[0m\u001b[0;36m1\u001b[0m\u001b[0;34m)\u001b[0m\u001b[0;34m\u001b[0m\u001b[0;34m\u001b[0m\u001b[0m\n\u001b[0;32m----> 8\u001b[0;31m \u001b[0mnotebook\u001b[0m\u001b[0;34m.\u001b[0m\u001b[0madd\u001b[0m\u001b[0;34m(\u001b[0m\u001b[0mgraph_tab\u001b[0m\u001b[0;34m,\u001b[0m \u001b[0mtext\u001b[0m\u001b[0;34m=\u001b[0m\u001b[0;34m'Graph'\u001b[0m\u001b[0;34m)\u001b[0m\u001b[0;34m\u001b[0m\u001b[0;34m\u001b[0m\u001b[0m\n\u001b[0m\u001b[1;32m      9\u001b[0m \u001b[0mnotebook\u001b[0m\u001b[0;34m.\u001b[0m\u001b[0mpack\u001b[0m\u001b[0;34m(\u001b[0m\u001b[0mfill\u001b[0m\u001b[0;34m=\u001b[0m\u001b[0mtk\u001b[0m\u001b[0;34m.\u001b[0m\u001b[0mBOTH\u001b[0m\u001b[0;34m,\u001b[0m \u001b[0mexpand\u001b[0m\u001b[0;34m=\u001b[0m\u001b[0;36m1\u001b[0m\u001b[0;34m)\u001b[0m\u001b[0;34m\u001b[0m\u001b[0;34m\u001b[0m\u001b[0m\n\u001b[1;32m     10\u001b[0m \u001b[0mfig\u001b[0m \u001b[0;34m=\u001b[0m \u001b[0mFigure\u001b[0m\u001b[0;34m(\u001b[0m\u001b[0;34m)\u001b[0m\u001b[0;34m\u001b[0m\u001b[0;34m\u001b[0m\u001b[0m\n",
      "\u001b[0;32m~/anaconda3/lib/python3.7/tkinter/ttk.py\u001b[0m in \u001b[0;36madd\u001b[0;34m(self, child, **kw)\u001b[0m\n\u001b[1;32m    844\u001b[0m         \u001b[0mIf\u001b[0m \u001b[0mwindow\u001b[0m \u001b[0;32mis\u001b[0m \u001b[0mcurrently\u001b[0m \u001b[0mmanaged\u001b[0m \u001b[0mby\u001b[0m \u001b[0mthe\u001b[0m \u001b[0mnotebook\u001b[0m \u001b[0mbut\u001b[0m \u001b[0mhidden\u001b[0m\u001b[0;34m,\u001b[0m \u001b[0mit\u001b[0m \u001b[0;32mis\u001b[0m\u001b[0;34m\u001b[0m\u001b[0;34m\u001b[0m\u001b[0m\n\u001b[1;32m    845\u001b[0m         restored to its previous position.\"\"\"\n\u001b[0;32m--> 846\u001b[0;31m         \u001b[0mself\u001b[0m\u001b[0;34m.\u001b[0m\u001b[0mtk\u001b[0m\u001b[0;34m.\u001b[0m\u001b[0mcall\u001b[0m\u001b[0;34m(\u001b[0m\u001b[0mself\u001b[0m\u001b[0;34m.\u001b[0m\u001b[0m_w\u001b[0m\u001b[0;34m,\u001b[0m \u001b[0;34m\"add\"\u001b[0m\u001b[0;34m,\u001b[0m \u001b[0mchild\u001b[0m\u001b[0;34m,\u001b[0m \u001b[0;34m*\u001b[0m\u001b[0;34m(\u001b[0m\u001b[0m_format_optdict\u001b[0m\u001b[0;34m(\u001b[0m\u001b[0mkw\u001b[0m\u001b[0;34m)\u001b[0m\u001b[0;34m)\u001b[0m\u001b[0;34m)\u001b[0m\u001b[0;34m\u001b[0m\u001b[0;34m\u001b[0m\u001b[0m\n\u001b[0m\u001b[1;32m    847\u001b[0m \u001b[0;34m\u001b[0m\u001b[0m\n\u001b[1;32m    848\u001b[0m \u001b[0;34m\u001b[0m\u001b[0m\n",
      "\u001b[0;31mTclError\u001b[0m: can't add .!frame2.!canvas as slave of .!notebook2"
     ]
    }
   ],
   "source": [
    "\n",
    "gui = tk.Tk()\n",
    "gui.title('Luke Outline')\n",
    "gui.geometry('600x400')\n",
    "# notebook = Notebook(gui)\n",
    "graph_tab = tk.Frame(gui)\n",
    "graph_tab = tk.Canvas(graph_tab)\n",
    "graph_tab.pack(side=tk.TOP, expand=1)\n",
    "notebook.add(graph_tab, text='Graph')\n",
    "notebook.pack(fill=tk.BOTH, expand=1)\n",
    "fig = Figure()\n",
    "graph = FigureCanvasTkAgg(fig,graph_tab)\n",
    "graph.get_tk_widget().pack(side='top',fill='both',expand=True)\n",
    "# EllipseSlider(fig)\n",
    "gui.mainloop()"
   ]
  },
  {
   "cell_type": "code",
   "execution_count": null,
   "metadata": {},
   "outputs": [],
   "source": [
    "x = np.linspace(0, 2 * np.pi, 400)\n",
    "y = np.sin(x ** 2)\n",
    "fig, ax = plt.subplots()\n",
    "ax.plot(x, y)\n",
    "ax.set_title('A single plot')"
   ]
  },
  {
   "cell_type": "code",
   "execution_count": null,
   "metadata": {},
   "outputs": [],
   "source": []
  },
  {
   "cell_type": "code",
   "execution_count": null,
   "metadata": {},
   "outputs": [],
   "source": []
  },
  {
   "cell_type": "code",
   "execution_count": null,
   "metadata": {},
   "outputs": [],
   "source": [
    "        self.fig = fig\n",
    "\n",
    "        # Initial values\n",
    "        self.u = 0.     #x-position of the center\n",
    "        self.v = 0.     #y-position of the center\n",
    "        self.a = 2.     #radius on the x-axis\n",
    "        self.b = 1.5    #radius on the y-axis\n",
    "\n",
    "        # Points to plot against\n",
    "        self.t = np.linspace(0, 2*np.pi, 100)\n",
    "\n",
    "        # Set up figure with centered axes and grid\n",
    "        self.ax = self.fig.add_subplot(111)\n",
    "        self.ax.set_aspect(aspect='equal')\n",
    "        self.ax.spines['left'].set_position('center')\n",
    "        self.ax.spines['bottom'].set_position('center')\n",
    "        self.ax.spines['right'].set_color('none')\n",
    "        self.ax.spines['top'].set_color('none')\n",
    "        self.ax.xaxis.set_ticks_position('bottom')\n",
    "        self.ax.yaxis.set_ticks_position('left')\n",
    "        self.ax.set_xlim(-2,2)\n",
    "        self.ax.set_ylim(-2,2)\n",
    "        self.ax.grid(color='lightgray',linestyle='--')\n",
    "\n",
    "        # Initial plot\n",
    "        self.l, = self.ax.plot(self.u+self.a*np.cos(self.t),\n",
    "            self.v+self.b*np.sin(self.t),'k')\n",
    "\n",
    "        # Slider setup\n",
    "        self.axcolor = 'lightgoldenrodyellow'\n",
    "        self.axb = self.fig.add_axes([0.25, 0.1, 0.65, 0.03], facecolor=self.axcolor)\n",
    "        self.axa = self.fig.add_axes([0.25, 0.15, 0.65, 0.03], facecolor=self.axcolor)\n",
    "\n",
    "        self.sb = Slider(self.axb, 'Y Radius', 0.1, 2.0, valinit=self.b)\n",
    "        self.sa = Slider(self.axa, 'X Radius', 0.1, 2.0, valinit=self.a)\n",
    "\n",
    "        # Call update as slider is changed\n",
    "        self.sb.on_changed(self.update)\n",
    "        self.sa.on_changed(self.update)\n",
    "\n",
    "        # Reset if reset button is pushed\n",
    "        self.resetax = self.fig.add_axes([0.8,0.025,0.1,0.04])\n",
    "        self.button = Button(self.resetax, 'Reset', color=self.axcolor, hovercolor='0.975')\n",
    "\n",
    "        self.button.on_clicked(self.reset)\n",
    "\n",
    "        # Color button setup\n",
    "        self.rax = self.fig.add_axes([0.025, 0.5, 0.15, 0.15], facecolor=self.axcolor)\n",
    "        self.radio = RadioButtons(self.rax, ('red', 'blue', 'green'), active=0)\n",
    "\n",
    "        self.radio.on_clicked(self.colorfunc)"
   ]
  },
  {
   "cell_type": "code",
   "execution_count": null,
   "metadata": {},
   "outputs": [],
   "source": []
  },
  {
   "cell_type": "code",
   "execution_count": null,
   "metadata": {},
   "outputs": [],
   "source": []
  },
  {
   "cell_type": "code",
   "execution_count": 8,
   "metadata": {},
   "outputs": [],
   "source": [
    "\n",
    "#----------------------------------------------------------\n",
    "\n",
    "class LukeOutline(tk.Tk):\n",
    "\n",
    "    #------------------------------------------------------\n",
    "    def __init__(self):\n",
    "        super().__init__()\n",
    "        self.title('Luke Outline')\n",
    "        self.geometry('600x400')\n",
    "        self.notebook = Notebook(self)\n",
    "\n",
    "        graph_tab = tk.Frame(self.notebook)\n",
    "        self.graph_tab = tk.Canvas(graph_tab)\n",
    "        self.graph_tab.pack(side=tk.TOP, expand=1)\n",
    "        self.notebook.add(graph_tab, text='Graph')\n",
    "        self.notebook.pack(fill=tk.BOTH, expand=1)\n",
    "        self.fig = Figure()\n",
    "        graph = FigureCanvasTkAgg(self.fig,self.graph_tab)\n",
    "        graph.get_tk_widget().pack(side='top',fill='both',expand=True)\n",
    "        EllipseSlider(self.fig)\n",
    "\n",
    "    #------------------------------------------------------\n",
    "    def quit(self):\n",
    "        self.destroy()\n",
    "\n",
    "    #------------------------------------------------------\n",
    "    def unfinished(self):\n",
    "        msg.showinfo('Unfinished','This feature has not been finished')\n",
    "\n",
    "    #------------------------------------------------------\n",
    "    def random_graph(self):\n",
    "        x = list(range(0,10))\n",
    "        y = [i**3 for i in x]\n",
    "\n",
    "        fig = Figure()\n",
    "        axes = fig.add_subplot(111)\n",
    "        axes.plot(x,y,label=r'$x^3$')\n",
    "        axes.legend()\n",
    "\n",
    "        return fig\n",
    "\n",
    "#----------------------------------------------------------\n",
    "\n",
    "class EllipseSlider():\n",
    "\n",
    "    #------------------------------------------------------\n",
    "    def __init__(self,fig):\n",
    "        self.fig = fig\n",
    "\n",
    "        # Initial values\n",
    "        self.u = 0.     #x-position of the center\n",
    "        self.v = 0.     #y-position of the center\n",
    "        self.a = 2.     #radius on the x-axis\n",
    "        self.b = 1.5    #radius on the y-axis\n",
    "\n",
    "        # Points to plot against\n",
    "        self.t = np.linspace(0, 2*np.pi, 100)\n",
    "\n",
    "        # Set up figure with centered axes and grid\n",
    "        self.ax = self.fig.add_subplot(111)\n",
    "        self.ax.set_aspect(aspect='equal')\n",
    "        self.ax.spines['left'].set_position('center')\n",
    "        self.ax.spines['bottom'].set_position('center')\n",
    "        self.ax.spines['right'].set_color('none')\n",
    "        self.ax.spines['top'].set_color('none')\n",
    "        self.ax.xaxis.set_ticks_position('bottom')\n",
    "        self.ax.yaxis.set_ticks_position('left')\n",
    "        self.ax.set_xlim(-2,2)\n",
    "        self.ax.set_ylim(-2,2)\n",
    "        self.ax.grid(color='lightgray',linestyle='--')\n",
    "\n",
    "        # Initial plot\n",
    "        self.l, = self.ax.plot(self.u+self.a*np.cos(self.t),\n",
    "            self.v+self.b*np.sin(self.t),'k')\n",
    "\n",
    "        # Slider setup\n",
    "        self.axcolor = 'lightgoldenrodyellow'\n",
    "        self.axb = self.fig.add_axes([0.25, 0.1, 0.65, 0.03], facecolor=self.axcolor)\n",
    "        self.axa = self.fig.add_axes([0.25, 0.15, 0.65, 0.03], facecolor=self.axcolor)\n",
    "\n",
    "        self.sb = Slider(self.axb, 'Y Radius', 0.1, 2.0, valinit=self.b)\n",
    "        self.sa = Slider(self.axa, 'X Radius', 0.1, 2.0, valinit=self.a)\n",
    "\n",
    "        # Call update as slider is changed\n",
    "        self.sb.on_changed(self.update)\n",
    "        self.sa.on_changed(self.update)\n",
    "\n",
    "        # Reset if reset button is pushed\n",
    "        self.resetax = self.fig.add_axes([0.8,0.025,0.1,0.04])\n",
    "        self.button = Button(self.resetax, 'Reset', color=self.axcolor, hovercolor='0.975')\n",
    "\n",
    "        self.button.on_clicked(self.reset)\n",
    "\n",
    "        # Color button setup\n",
    "        self.rax = self.fig.add_axes([0.025, 0.5, 0.15, 0.15], facecolor=self.axcolor)\n",
    "        self.radio = RadioButtons(self.rax, ('red', 'blue', 'green'), active=0)\n",
    "\n",
    "        self.radio.on_clicked(self.colorfunc)\n",
    "\n",
    "    #------------------------------------------------------\n",
    "\n",
    "    def update(self, val):\n",
    "        '''\n",
    "        Updates the plot as sliders are moved\n",
    "        '''\n",
    "        self.a = self.sa.val\n",
    "        self.b = self.sb.val\n",
    "        self.l.set_xdata(self.u+self.a*np.cos(self.t))\n",
    "        self.l.set_ydata(self.u+self.b*np.sin(self.t))\n",
    "\n",
    "    #------------------------------------------------------\n",
    "\n",
    "    def reset(self, event):\n",
    "        '''\n",
    "        Resets everything if reset button clicked\n",
    "        '''\n",
    "        self.sb.reset()\n",
    "        self.sa.reset()\n",
    "\n",
    "    #------------------------------------------------------\n",
    "\n",
    "    def colorfunc(self, label):\n",
    "        '''\n",
    "        Changes color of the plot when button clicked\n",
    "        '''\n",
    "        self.l.set_color(label)\n",
    "        self.fig.canvas.draw_idle()\n",
    "\n",
    "#----------------------------------------------------------\n",
    "\n"
   ]
  },
  {
   "cell_type": "code",
   "execution_count": 9,
   "metadata": {},
   "outputs": [],
   "source": [
    "\n",
    "luke_gui = LukeOutline()\n",
    "luke_gui.mainloop()"
   ]
  },
  {
   "cell_type": "code",
   "execution_count": null,
   "metadata": {},
   "outputs": [],
   "source": []
  }
 ],
 "metadata": {
  "kernelspec": {
   "display_name": "Python 3",
   "language": "python",
   "name": "python3"
  },
  "language_info": {
   "codemirror_mode": {
    "name": "ipython",
    "version": 3
   },
   "file_extension": ".py",
   "mimetype": "text/x-python",
   "name": "python",
   "nbconvert_exporter": "python",
   "pygments_lexer": "ipython3",
   "version": "3.7.6"
  }
 },
 "nbformat": 4,
 "nbformat_minor": 4
}
