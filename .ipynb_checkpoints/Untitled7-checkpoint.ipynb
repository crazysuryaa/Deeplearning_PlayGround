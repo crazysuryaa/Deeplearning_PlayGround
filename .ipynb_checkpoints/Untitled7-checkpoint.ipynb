{
 "cells": [
  {
   "cell_type": "code",
   "execution_count": 1,
   "metadata": {},
   "outputs": [],
   "source": [
    "import sys\n",
    "sys.path.insert(1, '/home/crazy/UI/ide/crossviper-master')\n",
    "from crossviper import *\n",
    "class Ide:\n",
    "    def __init__(self, parent):\n",
    "        ide =  tk.Toplevel(parent)\n",
    "        ide.geometry(\"%dx%d+%d+%d\"% (500,800,1800,0))\n",
    "        ide.resizable(width = \"True\",height = \"False\")\n",
    "        app = CrossViper(master=ide)\n",
    "        app.master.title('Python Ide')\n",
    "        app.master.minsize(width=400, height=800)\n"
   ]
  },
  {
   "cell_type": "code",
   "execution_count": 2,
   "metadata": {},
   "outputs": [],
   "source": [
    "\n",
    "# root = tk.Tk()\n",
    "# obj = Ide(root)\n",
    "# root.mainloop()"
   ]
  },
  {
   "cell_type": "code",
   "execution_count": null,
   "metadata": {},
   "outputs": [],
   "source": []
  }
 ],
 "metadata": {
  "kernelspec": {
   "display_name": "Python 3",
   "language": "python",
   "name": "python3"
  },
  "language_info": {
   "codemirror_mode": {
    "name": "ipython",
    "version": 3
   },
   "file_extension": ".py",
   "mimetype": "text/x-python",
   "name": "python",
   "nbconvert_exporter": "python",
   "pygments_lexer": "ipython3",
   "version": "3.7.6"
  }
 },
 "nbformat": 4,
 "nbformat_minor": 4
}
