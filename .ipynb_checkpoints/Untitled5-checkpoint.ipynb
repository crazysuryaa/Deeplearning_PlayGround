{
 "cells": [
  {
   "cell_type": "code",
   "execution_count": 18,
   "metadata": {},
   "outputs": [],
   "source": [
    "import tensorflow.keras as keras\n",
    "import tensorflow as tf"
   ]
  },
  {
   "cell_type": "code",
   "execution_count": 19,
   "metadata": {},
   "outputs": [],
   "source": [
    "from tensorflow.keras.layers import *\n",
    "from tensorflow.keras.utils import plot_model"
   ]
  },
  {
   "cell_type": "code",
   "execution_count": 20,
   "metadata": {},
   "outputs": [],
   "source": [
    "from tkinter import *\n",
    "import tkinter as tk\n",
    "from PIL import Image, ImageTk, ImageSequence\n",
    "from itertools import count\n",
    "from contextlib import redirect_stdout\n",
    "\n"
   ]
  },
  {
   "cell_type": "code",
   "execution_count": 4,
   "metadata": {},
   "outputs": [],
   "source": [
    "class DenseDialog:\n",
    "\n",
    "    def __init__(self, parent,x,y,ind):\n",
    "        global dic\n",
    "        conv =  tk.Toplevel(parent)\n",
    "#         print(x,y)\n",
    "        conv.geometry(\"%dx%d+%d+%d\"% (200,200,x+50,y))\n",
    "        conv.resizable(width = \"False\",height = \"False\")\n",
    "        conv.title(\"dense\")\n",
    "\n",
    "        v1 = StringVar(conv, value='1000')\n",
    "        v2 = StringVar(conv, value='relu')\n",
    "\n",
    "\n",
    "        e1 = Entry(conv, textvariable=v1)\n",
    "        e2 = Entry(conv, textvariable=v2)\n",
    "\n",
    "\n",
    "        l1 = Label(conv,text = \"units\")\n",
    "        l2 = Label(conv,text = \"activation\")\n",
    "\n",
    "\n",
    "\n",
    "        l1.grid(row = 0 , column = 0)\n",
    "        l2.grid(row = 1 , column = 0)\n",
    "\n",
    "\n",
    "        e1.focus_set()\n",
    "        e1.grid(row = 0 , column = 1)\n",
    "        e2.grid(row = 1 , column = 1)\n",
    "\n",
    "        submit = Button(conv,text = \"Submit\",pady = 10)\n",
    "        submit.grid(row = 2 ,columnspan = 2)\n",
    "        submit.bind(\"<ButtonPress-1>\",lambda event,array = [e1,e2] , ind = ind : self.printtext(array,ind))\n",
    "        self.conv = conv\n",
    "        \n",
    "        \n",
    "    def printtext(self,array,ind):\n",
    "        a = array[0].get() \n",
    "        b = array[1].get()\n",
    "#         print(a,b)\n",
    "        \n",
    "        a = int(a)\n",
    "        b = str(b)          \n",
    "        \n",
    "        \n",
    "        if dic[ind][\"name\"].startswith(\"dense\"):\n",
    "#             print(\"appending dense\")\n",
    "            dic[ind][\"Node\"] =  Dense(a,b)\n",
    "        self.conv.destroy()\n",
    "    \n"
   ]
  },
  {
   "cell_type": "code",
   "execution_count": null,
   "metadata": {},
   "outputs": [],
   "source": []
  },
  {
   "cell_type": "code",
   "execution_count": 5,
   "metadata": {},
   "outputs": [],
   "source": [
    "class OutputDialog:\n",
    "\n",
    "    def __init__(self, parent,x,y,ind):\n",
    "        global dic\n",
    "        conv =  tk.Toplevel(parent)\n",
    "#         print(x,y)\n",
    "        conv.geometry(\"%dx%d+%d+%d\"% (200,200,x+50,y))\n",
    "        conv.resizable(width = \"False\",height = \"False\")\n",
    "        conv.title(\"output\")\n",
    "\n",
    "        v1 = StringVar(conv, value='1000')\n",
    "        v2 = StringVar(conv, value='relu')\n",
    "\n",
    "\n",
    "        e1 = Entry(conv, textvariable=v1)\n",
    "        e2 = Entry(conv, textvariable=v2)\n",
    "\n",
    "\n",
    "        l1 = Label(conv,text = \"units\")\n",
    "        l2 = Label(conv,text = \"activation\")\n",
    "\n",
    "\n",
    "\n",
    "        l1.grid(row = 0 , column = 0)\n",
    "        l2.grid(row = 1 , column = 0)\n",
    "\n",
    "\n",
    "        e1.focus_set()\n",
    "        e1.grid(row = 0 , column = 1)\n",
    "        e2.grid(row = 1 , column = 1)\n",
    "\n",
    "        submit = Button(conv,text = \"Submit\",pady = 10)\n",
    "        submit.grid(row = 2 ,columnspan = 2)\n",
    "        submit.bind(\"<ButtonPress-1>\",lambda event,array = [e1,e2] , ind = ind : self.printtext(array,ind))\n",
    "        self.conv = conv\n",
    "        \n",
    "        \n",
    "    def printtext(self,array,ind):\n",
    "        a = array[0].get() \n",
    "        b = array[1].get()\n",
    "#         print(a,b)\n",
    "        \n",
    "        a = int(a)\n",
    "        b = str(b)          \n",
    "        \n",
    "        \n",
    "        if dic[ind][\"name\"].startswith(\"output\"):\n",
    "#             print(\"appending dense\")\n",
    "            dic[ind][\"Node\"] =  Dense(a,b)\n",
    "        self.conv.destroy()\n",
    "    \n"
   ]
  },
  {
   "cell_type": "code",
   "execution_count": 6,
   "metadata": {},
   "outputs": [],
   "source": [
    "# class OutputDialog:\n",
    "\n",
    "#     def __init__(self, parent,x,y,ind):\n",
    "#         global dic\n",
    "#         conv =  tk.Toplevel(parent)\n",
    "# #         print(x,y)\n",
    "#         conv.geometry(\"%dx%d+%d+%d\"% (200,200,x+50,y))\n",
    "#         conv.resizable(width = \"False\",height = \"False\")\n",
    "#         conv.title(\"output\")\n",
    "\n",
    "#         v1 = StringVar(conv, value='1000')\n",
    "#         v2 = StringVar(conv, value='relu')\n",
    "\n",
    "\n",
    "#         e1 = Entry(conv, textvariable=v1)\n",
    "#         e2 = Entry(conv, textvariable=v2)\n",
    "\n",
    "\n",
    "#         l1 = Label(conv,text = \"units\")\n",
    "#         l2 = Label(conv,text = \"activation\")\n",
    "\n",
    "\n",
    "\n",
    "#         l1.grid(row = 0 , column = 0)\n",
    "#         l2.grid(row = 1 , column = 0)\n",
    "\n",
    "\n",
    "#         e1.focus_set()\n",
    "#         e1.grid(row = 0 , column = 1)\n",
    "#         e2.grid(row = 1 , column = 1)\n",
    "\n",
    "#         submit = Button(conv,text = \"Submit\",pady = 10)\n",
    "#         submit.grid(row = 2 ,columnspan = 2)\n",
    "#         submit.bind(\"<ButtonPress-1>\",lambda event,array = [e1,e2] , ind = ind : self.printtext(array,ind))\n",
    "#         self.conv = conv\n",
    "        \n",
    "        \n",
    "#     def printtext(self,array,ind):\n",
    "#         a = array[0].get() \n",
    "#         b = array[1].get()\n",
    "# #         print(a,b)\n",
    "        \n",
    "#         a = int(a)\n",
    "#         b = str(b)          \n",
    "        \n",
    "        \n",
    "#         if dic[ind][\"name\"].startswith(\"output\"):\n",
    "# #             print(\"appending dense\")\n",
    "#             dic[ind][\"Node\"] =  Dense(a,b)\n",
    "#         self.conv.destroy()\n",
    "    \n"
   ]
  },
  {
   "cell_type": "code",
   "execution_count": 7,
   "metadata": {},
   "outputs": [],
   "source": [
    "class InputDialog:\n",
    "    def __init__(self, parent,x,y,ind):\n",
    "        global dic\n",
    "        conv =  tk.Toplevel(parent)\n",
    "#         print(x,y)\n",
    "        conv.geometry(\"%dx%d+%d+%d\"% (200,200,x+50,y))\n",
    "        conv.resizable(width = \"False\",height = \"False\")\n",
    "        conv.title(\"input\")\n",
    "\n",
    "        v1 = StringVar(conv, value='(224,224,3)')\n",
    "        v2 = StringVar(conv, value='relu')\n",
    "\n",
    "\n",
    "        e1 = Entry(conv, textvariable=v1)\n",
    "        e2 = Entry(conv, textvariable=v2)\n",
    "\n",
    "\n",
    "        l1 = Label(conv,text = \"inputsize\")\n",
    "        l2 = Label(conv,text = \"activation\")\n",
    "\n",
    "\n",
    "\n",
    "        l1.grid(row = 0 , column = 0)\n",
    "#         l2.grid(row = 1 , column = 0)\n",
    "\n",
    "\n",
    "        e1.focus_set()\n",
    "        e1.grid(row = 0 , column = 1)\n",
    "#         e2.grid(row = 1 , column = 1)\n",
    "\n",
    "        submit = Button(conv,text = \"Submit\",pady = 10)\n",
    "        submit.grid(row = 2 ,columnspan = 2)\n",
    "        submit.bind(\"<ButtonPress-1>\",lambda event,array = [e1], ind = ind: self.printtext(array,ind))\n",
    "        self.conv = conv\n",
    "        \n",
    "        \n",
    "#     def printtext(self,array):\n",
    "#         for i in range(len(array)-1):\n",
    "#             print(array[i].get())\n",
    "#         print(array[i-1])\n",
    "#         self.conv.destroy()\n",
    "    def printtext(self,array,ind):\n",
    "        a = array[0].get() \n",
    "        a  = eval(a)\n",
    "#         print(a)\n",
    "\n",
    "        if dic[ind][\"name\"].startswith(\"input\"):\n",
    "#             print(\"appending input model\")\n",
    "            dic[ind][\"Node\"] =  Input(shape= a)\n",
    "        self.conv.destroy()\n",
    "    "
   ]
  },
  {
   "cell_type": "code",
   "execution_count": 8,
   "metadata": {},
   "outputs": [],
   "source": [
    "class ConvDialog:\n",
    "\n",
    "    def __init__(self, parent,x,y,ind):\n",
    "        global dic\n",
    "        conv =  tk.Toplevel(parent)\n",
    "#         print(x,y)\n",
    "        conv.geometry(\"%dx%d+%d+%d\"% (200,200,x+50,y))\n",
    "        conv.resizable(width = \"False\",height = \"False\")\n",
    "        conv.title(\"conv\")\n",
    "        v1 = StringVar(conv, value='64')\n",
    "        v2 = StringVar(conv, value='3')\n",
    "        v3 = StringVar(conv, value='2')\n",
    "        v4 = StringVar(conv, value='same')\n",
    "        v5 = StringVar(conv, value='relu')\n",
    "        v6 = StringVar(conv, value='1')\n",
    "\n",
    "        e1 = Entry(conv, textvariable=v1)\n",
    "        e2 = Entry(conv, textvariable=v2)\n",
    "        e3 = Entry(conv, textvariable=v3)\n",
    "        e4 = Entry(conv, textvariable=v4)\n",
    "        e5 = Entry(conv, textvariable=v5)\n",
    "        e6 = Entry(conv, textvariable=v6)\n",
    "\n",
    "        l1 = Label(conv,text = \"filters\")\n",
    "        l2 = Label(conv,text = \"kernal size\")\n",
    "        l3 = Label(conv,text = \"strides\")\n",
    "        l4 = Label(conv,text = \"padding\")\n",
    "        l5 = Label(conv,text = \"activation\")\n",
    "        l6 = Label(conv,text = \"dilation\")\n",
    "\n",
    "\n",
    "        l1.grid(row = 0 , column = 0)\n",
    "        l2.grid(row = 1 , column = 0)\n",
    "        l3.grid(row = 2 , column = 0)\n",
    "        l4.grid(row = 3 , column = 0)\n",
    "        l5.grid(row = 4 , column = 0)\n",
    "        l6.grid(row = 5 , column = 0)\n",
    "\n",
    "        e1.focus_set()\n",
    "        e1.grid(row = 0 , column = 1)\n",
    "        e2.grid(row = 1 , column = 1)\n",
    "        e3.grid(row = 2 , column = 1)\n",
    "        e4.grid(row = 3 , column = 1)\n",
    "        e5.grid(row = 4 , column = 1)\n",
    "        e6.grid(row = 5 , column = 1)\n",
    "\n",
    "        submit = Button(conv,text = \"Submit\",pady = 10)\n",
    "        submit.grid(row = 6 ,columnspan = 2)\n",
    "        submit.bind(\"<ButtonPress-1>\",lambda event, a = e1 , b = e2 , c = e3,d = e4 ,e = e5 ,f = e6 ,g = 1: self.printtext(a, b, c,d,e,f,g))\n",
    "        self.conv = conv\n",
    "        \n",
    "\n",
    "        submit.bind(\"<ButtonPress-1>\",lambda event,array = [e1,e2,e3,e4,e5,e6] , ind = ind : self.printtext(array,ind))\n",
    "        self.conv = conv\n",
    "        \n",
    "        \n",
    "    def printtext(self,array,ind):\n",
    "        a = array[0].get() \n",
    "        b = array[1].get() \n",
    "        c = array[2].get() \n",
    "        d = array[3].get() \n",
    "        e = array[4].get() \n",
    "        f = array[5].get() \n",
    "#         print(a,b,c,d,e,f)\n",
    "        if dic[ind][\"name\"].startswith(\"conv\"):\n",
    "#             print(\"appending conv model\")\n",
    "            dic[ind][\"Node\"] = Conv2D(  filters = int(a),\n",
    "                                        kernel_size = int(b),\n",
    "                                        strides= int(c),\n",
    "                                        padding= str(d),\n",
    "                                        activation= str(e),\n",
    "                                        dilation_rate= int(f))\n",
    "        self.conv.destroy()"
   ]
  },
  {
   "cell_type": "code",
   "execution_count": 9,
   "metadata": {},
   "outputs": [],
   "source": [
    "class ConvDialog:\n",
    "\n",
    "    def __init__(self, parent,x,y,ind):\n",
    "        global dic\n",
    "        conv =  tk.Toplevel(parent)\n",
    "#         print(x,y)\n",
    "        conv.geometry(\"%dx%d+%d+%d\"% (200,200,x+50,y))\n",
    "        conv.resizable(width = \"False\",height = \"False\")\n",
    "        conv.title(\"conv\")\n",
    "        v1 = StringVar(conv, value='64')\n",
    "        v2 = StringVar(conv, value='3')\n",
    "        v3 = StringVar(conv, value='2')\n",
    "        v4 = StringVar(conv, value='same')\n",
    "        v5 = StringVar(conv, value='relu')\n",
    "        v6 = StringVar(conv, value='1')\n",
    "\n",
    "        e1 = Entry(conv, textvariable=v1)\n",
    "        e2 = Entry(conv, textvariable=v2)\n",
    "        e3 = Entry(conv, textvariable=v3)\n",
    "        e4 = Entry(conv, textvariable=v4)\n",
    "        e5 = Entry(conv, textvariable=v5)\n",
    "        e6 = Entry(conv, textvariable=v6)\n",
    "\n",
    "        l1 = Label(conv,text = \"filters\")\n",
    "        l2 = Label(conv,text = \"kernal size\")\n",
    "        l3 = Label(conv,text = \"strides\")\n",
    "        l4 = Label(conv,text = \"padding\")\n",
    "        l5 = Label(conv,text = \"activation\")\n",
    "        l6 = Label(conv,text = \"dilation\")\n",
    "\n",
    "\n",
    "        l1.grid(row = 0 , column = 0)\n",
    "        l2.grid(row = 1 , column = 0)\n",
    "        l3.grid(row = 2 , column = 0)\n",
    "        l4.grid(row = 3 , column = 0)\n",
    "        l5.grid(row = 4 , column = 0)\n",
    "        l6.grid(row = 5 , column = 0)\n",
    "\n",
    "        e1.focus_set()\n",
    "        e1.grid(row = 0 , column = 1)\n",
    "        e2.grid(row = 1 , column = 1)\n",
    "        e3.grid(row = 2 , column = 1)\n",
    "        e4.grid(row = 3 , column = 1)\n",
    "        e5.grid(row = 4 , column = 1)\n",
    "        e6.grid(row = 5 , column = 1)\n",
    "\n",
    "        submit = Button(conv,text = \"Submit\",pady = 10)\n",
    "        submit.grid(row = 6 ,columnspan = 2)\n",
    "        submit.bind(\"<ButtonPress-1>\",lambda event, a = e1 , b = e2 , c = e3,d = e4 ,e = e5 ,f = e6 ,g = 1: self.printtext(a, b, c,d,e,f,g))\n",
    "        self.conv = conv\n",
    "        \n",
    "\n",
    "        submit.bind(\"<ButtonPress-1>\",lambda event,array = [e1,e2,e3,e4,e5,e6] , ind = ind : self.printtext(array,ind))\n",
    "        self.conv = conv\n",
    "        \n",
    "        \n",
    "    def printtext(self,array,ind):\n",
    "        a = array[0].get() \n",
    "        b = array[1].get() \n",
    "        c = array[2].get() \n",
    "        d = array[3].get() \n",
    "        e = array[4].get() \n",
    "        f = array[5].get() \n",
    "#         print(a,b,c,d,e,f)\n",
    "        if dic[ind][\"name\"].startswith(\"conv\"):\n",
    "#             print(\"appending conv model\")\n",
    "            dic[ind][\"Node\"] = Conv2D(  filters = int(a),\n",
    "                                        kernel_size = int(b),\n",
    "                                        strides= int(c),\n",
    "                                        padding= str(d),\n",
    "                                        activation= str(e),\n",
    "                                        dilation_rate= int(f))\n",
    "        self.conv.destroy()"
   ]
  },
  {
   "cell_type": "code",
   "execution_count": null,
   "metadata": {},
   "outputs": [],
   "source": []
  },
  {
   "cell_type": "code",
   "execution_count": 10,
   "metadata": {},
   "outputs": [],
   "source": [
    "\n",
    "class ImageLabel(tk.Label):\n",
    "    \"\"\"a label that displays images, and plays them if they are gifs\"\"\"\n",
    "    def load(self, im):\n",
    "        if isinstance(im, str):\n",
    "            im = Image.open(im)\n",
    "        self.loc = 0\n",
    "        self.frames = []\n",
    "\n",
    "        try:\n",
    "            for i in count(1):\n",
    "                self.frames.append(ImageTk.PhotoImage(im.copy()))\n",
    "                im.seek(i)\n",
    "        except EOFError:\n",
    "            pass\n",
    "\n",
    "        try:\n",
    "            self.delay = im.info['duration']\n",
    "        except:\n",
    "            self.delay = 100\n",
    "\n",
    "        if len(self.frames) == 1:\n",
    "            self.config(image=self.frames[0])\n",
    "        else:\n",
    "            self.next_frame()\n",
    "\n",
    "    def unload(self):\n",
    "        self.config(image=\"\")\n",
    "        self.frames = None\n",
    "\n",
    "    def next_frame(self):\n",
    "        if self.frames:\n",
    "            self.loc += 1\n",
    "            self.loc %= len(self.frames)\n",
    "            self.config(image=self.frames[self.loc])\n",
    "            self.after(self.delay, self.next_frame)"
   ]
  },
  {
   "cell_type": "code",
   "execution_count": 22,
   "metadata": {},
   "outputs": [],
   "source": [
    "\n",
    "dic = [{} for i in range(20)]\n",
    "graph = [[] for i in range(20)]\n",
    "invgraph = [[] for i in range(20)]\n",
    "nodes = []\n",
    "\n",
    "\n",
    "buttonspath = '/home/crazy/UI/buttons/'\n",
    "bgpath = '/home/crazy/UI/backgrounds/'         \n",
    "\n",
    "class Window(Frame):\n",
    "\n",
    "    def __init__(self,b,master=None):\n",
    "        Frame.__init__(self, master)\n",
    "\n",
    "        self.master = master\n",
    "        \n",
    "        b1,b2,b3,b4,b5,b6,b7,b8,b9 = b\n",
    "        self._drag_data = {\"x\": 0, \"y\": 0, \"item\": None}\n",
    "        self.currenty  = 400\n",
    "        self.currentx = 20\n",
    "        self.ccnt = 0\n",
    "        self.dcnt = 0\n",
    "        self.acnt = 0\n",
    "        self.icnt = 0\n",
    "        self.ocnt = 0\n",
    "        self.cnt =0\n",
    "        global dic\n",
    "        global graph,invgraph,nodes,buttonspath,bgpath\n",
    "        invgraph = [[] for i in range(20)]\n",
    "        graph = [[] for i in range(20)]\n",
    "        dic = [{} for i in range(20)]\n",
    "        nodes = []\n",
    "        self.path = []\n",
    "\n",
    "        self.frame1 = tk.Frame(self.master, background=\"black\")\n",
    "        self.frame1.place(relwidth = 1 ,relheight = 0.15 ,relx = 0 ,rely= 0.85)\n",
    "        \n",
    "        bg1,bga1 = self.getwidgets(\"input\",buttonspath+\"input1.png\")\n",
    "        bg2,bga2 = self.getwidgets(\"input\",buttonspath+\"conv.png\")\n",
    "        bg3,bga3 = self.getwidgets(\"input\",buttonspath+\"dense.png\")\n",
    "        bg4,bga4 = self.getwidgets(\"input\",buttonspath+\"act1.png\")\n",
    "        bg5,bga5 = self.getwidgets(\"input\",buttonspath+\"output.png\")\n",
    "        bg6,bga6 = self.getwidgets(\"input\",buttonspath+\"flatten.png\")\n",
    "   \n",
    "        self.b1 = Button(self.frame1,image =b1,activebackground= \"#32CD32\" ,relief = RAISED,borderwidth= 10)\n",
    "        self.b2 = Button(self.frame1,image = b2,activebackground= \"#32CD32\" ,relief = RAISED,borderwidth= 10)\n",
    "        self.b3 = Button(self.frame1,image = b3,activebackground= \"#32CD32\" ,relief = RAISED,borderwidth= 10)\n",
    "        self.b4 = Button(self.frame1,image = b4,activebackground= \"#32CD32\" ,relief = RAISED,borderwidth= 10)\n",
    "        self.b5 = Button(self.frame1,image = b5,activebackground= \"#32CD32\" ,relief = RAISED,borderwidth= 10)\n",
    "        self.b6 = Button(self.frame1,image = b6,activebackground= \"#32CD32\" ,relief = RAISED,borderwidth= 10)\n",
    "        self.b7 = Button(self.frame1,image = b7,activebackground= \"#32CD32\" ,relief = RAISED,borderwidth= 10)\n",
    "        self.b8 = Button(self.frame1,image = b8,activebackground= \"#32CD32\" ,relief = RAISED,borderwidth= 10)\n",
    "        self.b9 = Button(self.frame1,image = b9,activebackground= \"#32CD32\" ,relief = RAISED,borderwidth= 10)\n",
    "               \n",
    "        self.b1.bind(\"<ButtonPress-1>\",lambda event, a = self.currentx , b =  self.currenty, c=\"black\",d =1 , bg = bg1 ,bga = bga1: self.create_token(a, b, c,d,bg,bga))\n",
    "        self.b2.bind(\"<ButtonPress-1>\",lambda event, a = self.currentx , b =  self.currenty, c=\"red\",d =2 ,bg = bg2,bga = bga2: self.create_token(a, b, c,d,bg,bga))\n",
    "        self.b3.bind(\"<ButtonPress-1>\",lambda event, a = self.currentx , b =  self.currenty, c=\"green\",d =3 ,bg = bg3,bga = bga3: self.create_token(a, b, c,d,bg,bga))\n",
    "        self.b4.bind(\"<ButtonPress-1>\",lambda event,a = self.currentx , b =  self.currenty, c=\"white\",d =4 ,bg = bg4,bga = bga4: self.create_token(a, b, c,d,bg,bga))\n",
    "        self.b5.bind(\"<ButtonPress-1>\",lambda event, a = self.currentx , b =  self.currenty, c=\"yellow\",d =5 ,bg = bg5,bga = bga5: self.create_token(a, b, c,d,bg,bga))\n",
    "        self.b6.bind(\"<ButtonPress-1>\",self.printdict)\n",
    "        self.b7.bind(\"<ButtonPress-1>\",self.compilemodel)\n",
    "        self.b8.bind(\"<ButtonPress-1>\",self.printdict)\n",
    "        self.b9.bind(\"<ButtonPress-1>\",self.printdict)\n",
    "\n",
    "        self.b1.place(relwidth = 0.11,relx = 0.005)\n",
    "        self.b2.place(relwidth = 0.11,relx = 0.115)\n",
    "        self.b3.place(relwidth = 0.11,relx = 0.225)\n",
    "        self.b4.place(relwidth = 0.11,relx = 0.335)\n",
    "        self.b5.place(relwidth = 0.11,relx = 0.445)\n",
    "        self.b6.place(relwidth = 0.11,relx = 0.555)\n",
    "        self.b7.place(relwidth = 0.11,relx = 0.665)\n",
    "        self.b8.place(relwidth = 0.11,relx = 0.775)\n",
    "        self.b9.place(relwidth = 0.11,relx = 0.885)\n",
    "\n",
    "        self.frame7 = tk.Frame(self.master, background=\"yellow\")\n",
    "        self.canvas = tk.Canvas(self.frame7,bg = \"black\")\n",
    "\n",
    "        self.canvas.tag_bind(\"token\", \"<ButtonPress-1>\", self.drag_start)\n",
    "        self.canvas.tag_bind(\"token\", \"<ButtonRelease-1>\", self.drag_stop)\n",
    "        self.canvas.tag_bind(\"token\", \"<B1-Motion>\", self.drag)\n",
    "        self.canvas.bind(\"<Shift-Button-3>\",self.clickedcanvas)\n",
    "        \n",
    "        self.frame7.place(relwidth = 1 ,relheight = 0.85 ,relx = 0 ,rely= 0.0)\n",
    "        self.canvas.place(relheight = 1 ,relwidth = 1)\n",
    "\n",
    "        self.sequence = [ImageTk.PhotoImage(img)\n",
    "                            for img in ImageSequence.Iterator(\n",
    "                                    Image.open(\n",
    "                                    bgpath+'ai3.gif'))]\n",
    "        self.image = self.canvas.create_image(0,0, image=self.sequence[0],anchor = NW)\n",
    "        self.animate(1)\n",
    "\n",
    "    def getwidgets(self,s,path):\n",
    "        image = Image.open(path)\n",
    "        bg = ImageTk.PhotoImage(image)\n",
    "        s = path[:-4]+\"active\"+path[-4:]\n",
    "        image = Image.open(s)\n",
    "        bga = ImageTk.PhotoImage(image)\n",
    "        return bg,bga\n",
    "      \n",
    "    def animate(self, counter):\n",
    "        self.canvas.itemconfig(self.image, image=self.sequence[counter])\n",
    "        self.master.after(38, lambda: self.animate((counter+1) % len(self.sequence)))\n",
    "\n",
    "    def drag_start(self, event):\n",
    "        self._drag_data[\"item\"] = self.canvas.find_closest(event.x, event.y)[0]\n",
    "        self._drag_data[\"x\"] = event.x\n",
    "        self._drag_data[\"y\"] = event.y\n",
    "\n",
    "    def drag_stop(self, event):\n",
    "        \"\"\"End drag of an object\"\"\"\n",
    "        self._drag_data[\"item\"] = None\n",
    "        self._drag_data[\"x\"] = 0\n",
    "        self._drag_data[\"y\"] = 0\n",
    "        i = event.widget.find_withtag('current')[0]\n",
    "        ind = nodes.index(i)\n",
    "        dic[ind][\"x\"] = event.x\n",
    "        dic[ind][\"y\"] = event.y\n",
    "\n",
    "    def drag(self, event):\n",
    "        \"\"\"Handle dragging of an object\"\"\"\n",
    "        delta_x = event.x - self._drag_data[\"x\"]\n",
    "        delta_y = event.y - self._drag_data[\"y\"]\n",
    "        self.canvas.move(self._drag_data[\"item\"], delta_x, delta_y)\n",
    "        self._drag_data[\"x\"] = event.x\n",
    "        self._drag_data[\"y\"] = event.y\n",
    "\n",
    "        \n",
    "    def create_token(self,x, y, color,label,bg,bga):\n",
    "#         print(\"button \",label,\" is pressed\")\n",
    "        x = self.currentx\n",
    "        y = self.currenty   \n",
    "        \n",
    "        if label==2:\n",
    "            name = \"conv\"+str(self.ccnt)\n",
    "            self.ccnt +=1\n",
    "            self.currentx +=160\n",
    "        elif label==3:\n",
    "            name = \"dense\"+str(self.dcnt)\n",
    "            self.currentx +=80\n",
    "            y = y-50\n",
    "            self.dcnt +=1\n",
    "        elif label ==4:\n",
    "            name = \"activation\"+str(self.acnt)\n",
    "            self.currentx +=120\n",
    "            self.acnt +=1\n",
    "            y = y+20\n",
    "        elif label ==1:\n",
    "            if self.icnt>=1:\n",
    "                y = self.currenty -120*self.icnt\n",
    "                x = 20\n",
    "                self.icnt +=1\n",
    "            else:\n",
    "                self.currentx +=120\n",
    "                self.icnt +=1\n",
    "            name = \"input\"+str(self.icnt)\n",
    "        elif label ==5:\n",
    "            y = self.currenty -120*self.ocnt\n",
    "            x = 1800\n",
    "            self.ocnt +=1\n",
    "            name =\"output\"+str(self.ocnt)\n",
    "        token = self.canvas.create_image(x,y,image = bg,anchor=NW,tags =(\"token\",),activeimage = bga)\n",
    "        nodes.append(token)\n",
    "        dic[self.cnt] = {\"x\" : x , \"y\" : y , \"name\": name ,\"Node\" : None , \"next\" :None}\n",
    "        dic[self.cnt] = {\"x\" : x , \"y\" : y , \"name\": name ,\"Node\" : None , \"next\" :None}\n",
    "        self.canvas.tag_bind(token ,'<Double-Button-1>', self.itemClicked)\n",
    "        self.canvas.tag_bind(token,\"<Shift-Button-1>\",self.connect)\n",
    "        self.cnt +=1\n",
    "\n",
    "    \n",
    "    def connect(self,event):\n",
    "        canvas_item_id = event.widget.find_withtag('current')[0]\n",
    "        try :\n",
    "            self.path.index(canvas_item_id)\n",
    "            print(\"Node already added\")\n",
    "        except:\n",
    "            self.path.append(canvas_item_id)\n",
    "        print(self.path)\n",
    "    \n",
    "    def clickedcanvas(self,event):\n",
    "        if len(self.path) > 1:\n",
    "            for i in range(len(self.path)-1):\n",
    "                n1= nodes.index(self.path[i])\n",
    "                n2 = nodes.index(self.path[i+1])\n",
    "                graph[n1].append(n2)\n",
    "                invgraph[n2].append(n1)\n",
    "                x1 = dic[n1][\"x\"]\n",
    "                y1 = dic[n1][\"y\"]\n",
    "                x2 = dic[n2][\"x\"]\n",
    "                y2 = dic[n2][\"y\"]\n",
    "                self.canvas.create_line(x1, y1, x2, y2, fill=\"white\", width=5)\n",
    "            print(\"added path\")\n",
    "        self.path = []\n",
    "        print(self.path)\n",
    "        \n",
    "        \n",
    "    def itemClicked(self,event):\n",
    "        canvas_item_id = event.widget.find_withtag('current')[0]\n",
    "        print('Item', canvas_item_id, 'Clicked!')\n",
    "        ind = nodes.index(canvas_item_id)\n",
    "        \n",
    "        if dic[ind][\"name\"].startswith(\"conv\"):\n",
    "            print(\"conv\")\n",
    "            ConvDialog(self.canvas,event.x,event.y,ind)\n",
    "        elif dic[ind][\"name\"].startswith(\"dense\"):\n",
    "            print(\"dense\")\n",
    "            DenseDialog(self.canvas,event.x,event.y,ind)\n",
    "            \n",
    "        elif dic[ind][\"name\"].startswith(\"input\"):\n",
    "            print(\"input\")\n",
    "            InputDialog(self.canvas,event.x,event.y,ind)\n",
    "            \n",
    "        elif dic[ind][\"name\"].startswith(\"output\"):\n",
    "            print(\"output\")\n",
    "            OutputDialog(self.canvas,event.x,event.y,ind)\n",
    "        \n",
    "    def printdict(self,event):\n",
    "        print(nodes)\n",
    "        print(dic)\n",
    "    \n",
    "\n",
    "    def compilemodel(self,event):\n",
    "        for ind,nodes in enumerate(graph):\n",
    "            if len(nodes)>0:\n",
    "                if ind == 0:\n",
    "                    inp = x = dic[0][\"Node\"]\n",
    "                    i = graph[0][0]\n",
    "                else:\n",
    "                    x = dic[i][\"Node\"](x)\n",
    "                    i = graph[i][0]\n",
    "            model = tf.keras.models.Model(inp,x)\n",
    "        model.summary()\n",
    "        plot_model(model,\"modelplot.png\")\n",
    "        with open('modelsummary.txt', 'w') as f:\n",
    "            with redirect_stdout(f):\n",
    "                model.summary()\n",
    "        \n",
    "\n",
    "\n",
    "class Mainclass:\n",
    "    def __init__(self):\n",
    "        self.window = tk.Tk()\n",
    "        self.window.attributes('-zoomed', True)  \n",
    "        self.fullScreenState = False\n",
    "        self.window.bind(\"<F11>\", self.toggleFullScreen)\n",
    "        self.window.bind(\"<Escape>\", self.quitFullScreen)\n",
    "        self.window.title(\"DEEP-LEARNING UI\")\n",
    "#         image = Image.open(bgpath+\"bg3.png\")\n",
    "#         bg = ImageTk.PhotoImage(image)\n",
    "        b = self.getbuttonimages()\n",
    "        app = Window(b,master = self.window)\n",
    "        \n",
    "        self.window.mainloop()\n",
    "        \n",
    "    def getbuttonimages(self):\n",
    "        bg1 = self.buttonimage(\"input\")\n",
    "        bg2 = self.buttonimage(\"conv\")\n",
    "        bg3 = self.buttonimage(\"dense\")\n",
    "        bg4 = self.buttonimage(\"act\")\n",
    "        bg5 = self.buttonimage(\"output\")\n",
    "        bg6 = self.buttonimage(\"flatten\")\n",
    "        bg7 = self.buttonimage(\"compile\")\n",
    "        bg8 = self.buttonimage(\"plot\")\n",
    "        bg9 = self.buttonimage(\"train\")\n",
    "        return [bg1,bg2,bg3,bg4,bg5,bg6,bg7,bg8,bg9]\n",
    "        \n",
    "    def buttonimage(self,s):\n",
    "        path = buttonspath+s+\"button.png\"\n",
    "        image = Image.open(path)\n",
    "        image = image.resize((200,140),Image.ANTIALIAS)\n",
    "        bg = ImageTk.PhotoImage(image)\n",
    "        return bg\n",
    "    \n",
    "    def toggleFullScreen(self, event):\n",
    "        self.fullScreenState = not self.fullScreenState\n",
    "        self.window.attributes(\"-zoomed\", self.fullScreenState)\n",
    "\n",
    "    def quitFullScreen(self, event):\n",
    "        self.fullScreenState = False\n",
    "        self.window.attributes(\"-zoomed\", self.fullScreenState)\n",
    "\n",
    "def toggleFullScreen(event):\n",
    "    fullScreenState = not fullScreenState\n",
    "    root.attributes(\"-zoomed\", fullScreenState)\n",
    "\n",
    "def quitFullScreen(event):\n",
    "    fullScreenState = False\n",
    "    root.attributes(\"-zoomed\", fullScreenState)    "
   ]
  },
  {
   "cell_type": "code",
   "execution_count": 23,
   "metadata": {
    "scrolled": true
   },
   "outputs": [
    {
     "name": "stdout",
     "output_type": "stream",
     "text": [
      "Item 2 Clicked!\n",
      "input\n",
      "Item 3 Clicked!\n",
      "conv\n",
      "Item 4 Clicked!\n",
      "conv\n",
      "Item 5 Clicked!\n",
      "conv\n",
      "Item 6 Clicked!\n",
      "conv\n",
      "Item 7 Clicked!\n",
      "dense\n",
      "Item 8 Clicked!\n",
      "dense\n",
      "Item 9 Clicked!\n",
      "dense\n",
      "Item 10 Clicked!\n",
      "dense\n",
      "Item 11 Clicked!\n",
      "output\n",
      "[2]\n",
      "[2, 3]\n",
      "[2, 3, 4]\n",
      "[2, 3, 4, 5]\n",
      "[2, 3, 4, 5, 6]\n",
      "[2, 3, 4, 5, 6, 7]\n",
      "[2, 3, 4, 5, 6, 7, 8]\n",
      "[2, 3, 4, 5, 6, 7, 8, 9]\n",
      "[2, 3, 4, 5, 6, 7, 8, 9, 10]\n",
      "[2, 3, 4, 5, 6, 7, 8, 9, 10, 11]\n",
      "added path\n",
      "[]\n",
      "Model: \"model_159\"\n",
      "_________________________________________________________________\n",
      "Layer (type)                 Output Shape              Param #   \n",
      "=================================================================\n",
      "input_4 (InputLayer)         [(None, 224, 224, 3)]     0         \n",
      "_________________________________________________________________\n",
      "conv2d_14 (Conv2D)           (None, 112, 112, 64)      1792      \n",
      "_________________________________________________________________\n",
      "conv2d_15 (Conv2D)           (None, 56, 56, 64)        36928     \n",
      "_________________________________________________________________\n",
      "conv2d_16 (Conv2D)           (None, 28, 28, 64)        36928     \n",
      "_________________________________________________________________\n",
      "conv2d_17 (Conv2D)           (None, 14, 14, 64)        36928     \n",
      "_________________________________________________________________\n",
      "dense_18 (Dense)             (None, 14, 14, 1000)      65000     \n",
      "_________________________________________________________________\n",
      "dense_19 (Dense)             (None, 14, 14, 1000)      1001000   \n",
      "_________________________________________________________________\n",
      "dense_20 (Dense)             (None, 14, 14, 1000)      1001000   \n",
      "_________________________________________________________________\n",
      "dense_21 (Dense)             (None, 14, 14, 1000)      1001000   \n",
      "=================================================================\n",
      "Total params: 3,180,576\n",
      "Trainable params: 3,180,576\n",
      "Non-trainable params: 0\n",
      "_________________________________________________________________\n"
     ]
    },
    {
     "data": {
      "text/plain": [
       "<__main__.Mainclass at 0x7ff5480ec6d0>"
      ]
     },
     "execution_count": 23,
     "metadata": {},
     "output_type": "execute_result"
    }
   ],
   "source": [
    "Mainclass()"
   ]
  },
  {
   "cell_type": "code",
   "execution_count": 13,
   "metadata": {},
   "outputs": [
    {
     "data": {
      "text/plain": [
       "[{'x': 20, 'y': 400, 'name': 'input1', 'Node': None, 'next': None},\n",
       " {'x': 70, 'y': 331, 'name': 'input2', 'Node': None, 'next': None},\n",
       " {'x': 140, 'y': 400, 'name': 'conv0', 'Node': None, 'next': None},\n",
       " {'x': 300, 'y': 400, 'name': 'conv1', 'Node': None, 'next': None},\n",
       " {'x': 460, 'y': 400, 'name': 'conv2', 'Node': None, 'next': None},\n",
       " {},\n",
       " {},\n",
       " {},\n",
       " {},\n",
       " {},\n",
       " {},\n",
       " {},\n",
       " {},\n",
       " {},\n",
       " {},\n",
       " {},\n",
       " {},\n",
       " {},\n",
       " {},\n",
       " {}]"
      ]
     },
     "execution_count": 13,
     "metadata": {},
     "output_type": "execute_result"
    }
   ],
   "source": [
    "dic"
   ]
  },
  {
   "cell_type": "code",
   "execution_count": 53,
   "metadata": {},
   "outputs": [],
   "source": [
    "for ind,nodes in enumerate(graph):\n",
    "    if len(nodes)>0:\n",
    "        if ind == 0:\n",
    "            inp = x = dic[0][\"Node\"]\n",
    "            i = graph[0][0]\n",
    "        else:\n",
    "            x = dic[i][\"Node\"](x)\n",
    "            i = graph[i][0]"
   ]
  },
  {
   "cell_type": "code",
   "execution_count": 56,
   "metadata": {},
   "outputs": [],
   "source": [
    "model = tf.keras.models.Model(inp,x)"
   ]
  },
  {
   "cell_type": "code",
   "execution_count": 57,
   "metadata": {},
   "outputs": [
    {
     "name": "stdout",
     "output_type": "stream",
     "text": [
      "Model: \"model\"\n",
      "_________________________________________________________________\n",
      "Layer (type)                 Output Shape              Param #   \n",
      "=================================================================\n",
      "input_2 (InputLayer)         [(None, 224, 224, 3)]     0         \n",
      "_________________________________________________________________\n",
      "conv2d_3 (Conv2D)            (None, 112, 112, 64)      1792      \n",
      "_________________________________________________________________\n",
      "conv2d_4 (Conv2D)            (None, 56, 56, 64)        36928     \n",
      "_________________________________________________________________\n",
      "conv2d_5 (Conv2D)            (None, 28, 28, 64)        36928     \n",
      "_________________________________________________________________\n",
      "dense (Dense)                (None, 28, 28, 1000)      65000     \n",
      "_________________________________________________________________\n",
      "dense_1 (Dense)              (None, 28, 28, 1000)      1001000   \n",
      "_________________________________________________________________\n",
      "dense_2 (Dense)              (None, 28, 28, 256)       256256    \n",
      "_________________________________________________________________\n",
      "dense_3 (Dense)              (None, 28, 28, 128)       32896     \n",
      "=================================================================\n",
      "Total params: 1,430,800\n",
      "Trainable params: 1,430,800\n",
      "Non-trainable params: 0\n",
      "_________________________________________________________________\n"
     ]
    }
   ],
   "source": [
    "model.summary()"
   ]
  },
  {
   "cell_type": "code",
   "execution_count": 1,
   "metadata": {},
   "outputs": [],
   "source": [
    "from tkinter import *"
   ]
  },
  {
   "cell_type": "code",
   "execution_count": 23,
   "metadata": {},
   "outputs": [
    {
     "name": "stderr",
     "output_type": "stream",
     "text": [
      "Exception in Tkinter callback\n",
      "Traceback (most recent call last):\n",
      "  File \"/home/crazy/anaconda3/lib/python3.7/tkinter/__init__.py\", line 1705, in __call__\n",
      "    return self.func(*args)\n",
      "  File \"/home/crazy/anaconda3/lib/python3.7/tkinter/__init__.py\", line 749, in callit\n",
      "    func(*args)\n",
      "  File \"<ipython-input-23-aac631d131c9>\", line 13, in update\n",
      "    frame = frames[ind]\n",
      "IndexError: list index out of range\n"
     ]
    }
   ],
   "source": [
    "from tkinter import *\n",
    "from PIL import Image, ImageTk\n",
    "import tkinter as tk\n",
    "\n",
    "import time\n",
    "import os\n",
    "root = Tk()\n",
    "image = Image.open(\"/home/crazy/Downloads/ai2.gif\")\n",
    "frames = [ImageTk.PhotoImage(image,format = 'gif -index %i' %(i)) for i in range(38)]\n",
    "\n",
    "def update(ind):\n",
    "\n",
    "    frame = frames[ind]\n",
    "    ind += 1\n",
    "    label.configure(image=frame)\n",
    "    root.after(38, update, ind)\n",
    "label = Label(root)\n",
    "label.pack()\n",
    "root.after(0, update, 0)\n",
    "root.mainloop()"
   ]
  },
  {
   "cell_type": "code",
   "execution_count": 10,
   "metadata": {},
   "outputs": [],
   "source": [
    "from PIL import Image, ImageSequence\n",
    "\n",
    "im = Image.open(\"/home/crazy/Downloads/ai2.gif\")\n",
    "frames = ImageSequence.Iterator(im)"
   ]
  },
  {
   "cell_type": "code",
   "execution_count": 3,
   "metadata": {},
   "outputs": [
    {
     "name": "stdout",
     "output_type": "stream",
     "text": [
      "24\n"
     ]
    }
   ],
   "source": [
    "from PIL import Image\n",
    "im = Image.open(\"/home/crazy/Downloads/ai.gif\")\n",
    "c =0 \n",
    "# To iterate through the entire gif\n",
    "try:\n",
    "    while 1:\n",
    "        c = c+1\n",
    "        im.seek(im.tell()+1)\n",
    "        # do something to im\n",
    "except EOFError:\n",
    "    pass # end of sequence\n",
    "print(c)"
   ]
  },
  {
   "cell_type": "code",
   "execution_count": 21,
   "metadata": {},
   "outputs": [],
   "source": [
    "from tkinter import *\n",
    "     \n",
    "canvas = Canvas(width=300, height=300, bg='white')\n",
    "canvas.pack(expand=YES, fill=BOTH)                \n",
    "     \n",
    "photo=PhotoImage(file=\"/home/crazy/Downloads/ai.gif\")\n",
    "canvas.create_image(250, 0, image=photo, anchor=NW)\n",
    "     \n",
    "     \n",
    "widget = Label(canvas, text='AAA', fg='white', bg='black')\n",
    "widget.pack()\n",
    "canvas.create_window(100, 100, window=widget)      \n",
    "mainloop()"
   ]
  },
  {
   "cell_type": "code",
   "execution_count": 1,
   "metadata": {},
   "outputs": [
    {
     "name": "stdout",
     "output_type": "stream",
     "text": [
      "1\n",
      "2\n",
      "3\n",
      "4\n",
      "5\n",
      "6\n",
      "7\n",
      "8\n",
      "9\n",
      "10\n",
      "11\n",
      "12\n",
      "13\n",
      "14\n",
      "15\n",
      "16\n",
      "17\n",
      "18\n",
      "19\n",
      "20\n",
      "21\n",
      "22\n",
      "23\n",
      "24\n",
      "25\n",
      "1\n",
      "2\n",
      "3\n",
      "4\n",
      "5\n",
      "6\n",
      "7\n",
      "8\n",
      "9\n",
      "10\n",
      "11\n",
      "12\n",
      "13\n",
      "14\n",
      "15\n",
      "16\n",
      "17\n",
      "18\n",
      "19\n",
      "20\n",
      "21\n",
      "22\n",
      "23\n",
      "24\n",
      "25\n",
      "1\n",
      "2\n",
      "3\n",
      "4\n",
      "5\n",
      "6\n",
      "7\n",
      "8\n",
      "9\n",
      "10\n",
      "11\n",
      "12\n",
      "13\n",
      "14\n",
      "15\n",
      "16\n",
      "17\n",
      "18\n",
      "19\n",
      "20\n",
      "21\n",
      "22\n",
      "23\n",
      "24\n",
      "25\n",
      "1\n",
      "2\n",
      "3\n",
      "4\n",
      "5\n",
      "6\n",
      "7\n",
      "8\n",
      "9\n",
      "10\n",
      "11\n",
      "12\n",
      "13\n",
      "14\n",
      "15\n",
      "16\n",
      "17\n",
      "18\n",
      "19\n",
      "20\n",
      "21\n",
      "22\n",
      "23\n",
      "24\n",
      "25\n",
      "1\n",
      "2\n",
      "3\n",
      "4\n",
      "5\n",
      "6\n",
      "7\n",
      "8\n",
      "9\n",
      "10\n",
      "11\n",
      "12\n",
      "13\n",
      "14\n",
      "15\n",
      "16\n",
      "17\n",
      "18\n",
      "19\n",
      "20\n",
      "21\n",
      "22\n",
      "23\n",
      "24\n",
      "25\n",
      "1\n",
      "2\n",
      "3\n",
      "4\n",
      "5\n",
      "6\n",
      "7\n",
      "8\n",
      "9\n",
      "10\n",
      "11\n",
      "12\n",
      "13\n",
      "14\n",
      "15\n",
      "16\n",
      "17\n",
      "18\n",
      "19\n",
      "20\n",
      "21\n",
      "22\n",
      "23\n",
      "24\n",
      "25\n",
      "1\n",
      "2\n",
      "3\n",
      "4\n",
      "5\n",
      "6\n",
      "7\n",
      "8\n",
      "9\n",
      "10\n",
      "11\n",
      "12\n",
      "13\n",
      "14\n",
      "15\n",
      "16\n",
      "17\n",
      "18\n",
      "19\n",
      "20\n",
      "21\n",
      "22\n",
      "23\n",
      "24\n",
      "25\n",
      "1\n",
      "2\n",
      "3\n",
      "4\n",
      "5\n",
      "6\n",
      "7\n",
      "8\n",
      "9\n",
      "10\n",
      "11\n",
      "12\n",
      "13\n",
      "14\n",
      "15\n",
      "16\n"
     ]
    }
   ],
   "source": [
    "from tkinter import *\n",
    "from PIL import Image, ImageTk\n",
    "import tkinter as tk\n",
    "\n",
    "import time\n",
    "import os\n",
    "root = Tk()\n",
    "\n",
    "# image = Image.open(\"/home/crazy/Downloads/ai.gif\")\n",
    "frames = [ImageTk.PhotoImage(file = \"/home/crazy/Downloads/ai.gif\",format = 'gif -index %i' %(i)) for i in range(38)]\n",
    "\n",
    "# frames = [PhotoImage(file='/home/crazy/Downloads/ai2.gif',format = 'gif -index %i' %(i)) for i in range(31)]\n",
    "\n",
    "def update(ind):\n",
    "    frame = frames[ind]\n",
    "    ind += 1\n",
    "    print(ind)\n",
    "    if ind>24: #With this condition it will play gif infinitely\n",
    "        ind = 0\n",
    "    label.configure(image=frame)\n",
    "    root.after(100, update, ind)\n",
    "\n",
    "label = Label(root)\n",
    "label.pack()\n",
    "root.after(0, update, 0)\n",
    "root.mainloop()"
   ]
  },
  {
   "cell_type": "code",
   "execution_count": null,
   "metadata": {},
   "outputs": [],
   "source": []
  },
  {
   "cell_type": "code",
   "execution_count": 5,
   "metadata": {},
   "outputs": [],
   "source": [
    "import tkinter as tk\n",
    "from PIL import Image, ImageTk\n",
    "from itertools import count\n",
    "\n",
    "class ImageLabel(tk.Label):\n",
    "    \"\"\"a label that displays images, and plays them if they are gifs\"\"\"\n",
    "    def load(self, im):\n",
    "        if isinstance(im, str):\n",
    "            im = Image.open(im)\n",
    "        self.loc = 0\n",
    "        self.frames = []\n",
    "\n",
    "        try:\n",
    "            for i in count(1):\n",
    "                self.frames.append(ImageTk.PhotoImage(im.copy()))\n",
    "                im.seek(i)\n",
    "        except EOFError:\n",
    "            pass\n",
    "\n",
    "        try:\n",
    "            self.delay = im.info['duration']\n",
    "        except:\n",
    "            self.delay = 100\n",
    "\n",
    "        if len(self.frames) == 1:\n",
    "            self.config(image=self.frames[0])\n",
    "        else:\n",
    "            self.next_frame()\n",
    "\n",
    "    def unload(self):\n",
    "        self.config(image=\"\")\n",
    "        self.frames = None\n",
    "\n",
    "    def next_frame(self):\n",
    "        if self.frames:\n",
    "            self.loc += 1\n",
    "            self.loc %= len(self.frames)\n",
    "            self.config(image=self.frames[self.loc])\n",
    "            self.after(self.delay, self.next_frame)\n",
    "\n",
    "root = tk.Tk()\n",
    "lbl = ImageLabel(root)\n",
    "lbl.pack()\n",
    "lbl.load( \"/home/crazy/Downloads/ai2.gif\")\n",
    "root.mainloop()"
   ]
  },
  {
   "cell_type": "code",
   "execution_count": null,
   "metadata": {},
   "outputs": [],
   "source": []
  },
  {
   "cell_type": "code",
   "execution_count": 2,
   "metadata": {},
   "outputs": [],
   "source": [
    "#importing library\n",
    "from tkinter import *\n",
    "#creating window\n",
    "window = Tk()\n",
    "#Title\n",
    "window.title('Grand Canyon')\n",
    "canvas = Canvas(window, width = 500, height = 500)\n",
    "canvas.pack()\n",
    "my_image = PhotoImage(file='/home/crazy/Downloads/ai.gif')\n",
    "canvas.create_image(0, 0, anchor = NW, image = my_image)\n",
    "\n",
    "window.mainloop()"
   ]
  },
  {
   "cell_type": "code",
   "execution_count": null,
   "metadata": {},
   "outputs": [],
   "source": []
  },
  {
   "cell_type": "code",
   "execution_count": null,
   "metadata": {},
   "outputs": [],
   "source": []
  },
  {
   "cell_type": "code",
   "execution_count": null,
   "metadata": {},
   "outputs": [],
   "source": []
  },
  {
   "cell_type": "code",
   "execution_count": 4,
   "metadata": {},
   "outputs": [],
   "source": [
    "import tkinter\n",
    "from PIL import Image, ImageTk, ImageSequence\n",
    "\n",
    "class App:\n",
    "    def __init__(self, parent):\n",
    "        self.parent = parent\n",
    "        self.canvas = tkinter.Canvas(parent, width=400, height=400)\n",
    "        self.canvas.pack()\n",
    "        self.sequence = [ImageTk.PhotoImage(img)\n",
    "                            for img in ImageSequence.Iterator(\n",
    "                                    Image.open(\n",
    "                                    r'/home/crazy/Downloads/ai.gif'))]\n",
    "        self.image = self.canvas.create_image(200,200, image=self.sequence[0])\n",
    "        self.animate(1)\n",
    "    def animate(self, counter):\n",
    "        self.canvas.itemconfig(self.image, image=self.sequence[counter])\n",
    "        self.parent.after(38, lambda: self.animate((counter+1) % len(self.sequence)))\n",
    "\n",
    "root = tkinter.Tk()\n",
    "app = App(root)\n",
    "root.mainloop()"
   ]
  },
  {
   "cell_type": "code",
   "execution_count": null,
   "metadata": {},
   "outputs": [],
   "source": []
  },
  {
   "cell_type": "code",
   "execution_count": null,
   "metadata": {},
   "outputs": [],
   "source": []
  },
  {
   "cell_type": "code",
   "execution_count": null,
   "metadata": {},
   "outputs": [],
   "source": []
  },
  {
   "cell_type": "code",
   "execution_count": null,
   "metadata": {},
   "outputs": [],
   "source": [
    "from tkinter import *\n",
    "\n",
    "import tkinter as tk\n",
    "\n",
    "import time\n",
    "import os\n",
    "root = Tk()\n",
    "image = Image.open(\"/home/crazy/Downloads/ai2.gif\")\n",
    "frames = [ImageTk.PhotoImage(image,format = 'gif -index %i' %(i)) for i in range(38)]\n"
   ]
  },
  {
   "cell_type": "code",
   "execution_count": 58,
   "metadata": {},
   "outputs": [],
   "source": [
    "from tkinter import *\n",
    "from PIL import Image, ImageTk\n",
    "\n",
    "\n",
    "root = Tk()\n",
    "can = Canvas(root, height = 200, width = 300, bg = \"white\")\n",
    "image = Image.open(\"/home/crazy/buttons5.png\")\n",
    "bg = ImageTk.PhotoImage(image)\n",
    "image = Image.open(\"result.png\")\n",
    "bg1 = ImageTk.PhotoImage(image)\n",
    "\n",
    "can.pack()\n",
    "can.create_image(0,0,image = bg,anchor = NW,activeimage = bg1)\n",
    "\n",
    "root.mainloop()"
   ]
  },
  {
   "cell_type": "code",
   "execution_count": 60,
   "metadata": {},
   "outputs": [
    {
     "name": "stdout",
     "output_type": "stream",
     "text": [
      "\u001b[31mERROR: Could not find a version that satisfies the requirement winsound (from versions: none)\u001b[0m\r\n",
      "\u001b[31mERROR: No matching distribution found for winsound\u001b[0m\r\n"
     ]
    }
   ],
   "source": [
    "!pip install winsound"
   ]
  },
  {
   "cell_type": "code",
   "execution_count": 3,
   "metadata": {},
   "outputs": [],
   "source": [
    "import os\n",
    "def playsound(frequency,duration):\n",
    "    os.system('beep -f %s -l %s' % (frequency,duration))"
   ]
  },
  {
   "cell_type": "code",
   "execution_count": 9,
   "metadata": {},
   "outputs": [],
   "source": [
    "playsound(500,1000)"
   ]
  },
  {
   "cell_type": "code",
   "execution_count": 59,
   "metadata": {},
   "outputs": [
    {
     "ename": "ModuleNotFoundError",
     "evalue": "No module named 'winsound'",
     "output_type": "error",
     "traceback": [
      "\u001b[0;31m---------------------------------------------------------------------------\u001b[0m",
      "\u001b[0;31mModuleNotFoundError\u001b[0m                       Traceback (most recent call last)",
      "\u001b[0;32m<ipython-input-59-2179eeb3f1e5>\u001b[0m in \u001b[0;36m<module>\u001b[0;34m\u001b[0m\n\u001b[1;32m      1\u001b[0m \u001b[0;32mfrom\u001b[0m \u001b[0mtkinter\u001b[0m \u001b[0;32mimport\u001b[0m \u001b[0;34m*\u001b[0m\u001b[0;34m\u001b[0m\u001b[0;34m\u001b[0m\u001b[0m\n\u001b[0;32m----> 2\u001b[0;31m \u001b[0;32mfrom\u001b[0m \u001b[0mwinsound\u001b[0m \u001b[0;32mimport\u001b[0m \u001b[0;34m*\u001b[0m\u001b[0;34m\u001b[0m\u001b[0;34m\u001b[0m\u001b[0m\n\u001b[0m\u001b[1;32m      3\u001b[0m \u001b[0;32mdef\u001b[0m \u001b[0mon_click\u001b[0m\u001b[0;34m(\u001b[0m\u001b[0mevent\u001b[0m\u001b[0;34m)\u001b[0m\u001b[0;34m:\u001b[0m\u001b[0;34m\u001b[0m\u001b[0;34m\u001b[0m\u001b[0m\n\u001b[1;32m      4\u001b[0m     \u001b[0mwinsound\u001b[0m\u001b[0;34m.\u001b[0m\u001b[0mBeep\u001b[0m\u001b[0;34m(\u001b[0m\u001b[0;34m'frequency'\u001b[0m\u001b[0;34m,\u001b[0m \u001b[0;34m'duration'\u001b[0m\u001b[0;34m)\u001b[0m\u001b[0;34m\u001b[0m\u001b[0;34m\u001b[0m\u001b[0m\n\u001b[1;32m      5\u001b[0m \u001b[0;34m\u001b[0m\u001b[0m\n",
      "\u001b[0;31mModuleNotFoundError\u001b[0m: No module named 'winsound'"
     ]
    }
   ],
   "source": [
    "from tkinter import *\n",
    "from winsound import *\n",
    "def on_click(event): \n",
    "    winsound.Beep('frequency', 'duration')\n",
    "\n",
    "root = Tk() # create tkinter window\n",
    "\n",
    "play = lambda: PlaySound('Sound.wav', SND_FILENAME)\n",
    "button = Button(root, text = 'Play')\n",
    "button.bind(\"<Button-1>\",on_click)\n",
    "\n",
    "button.pack()\n",
    "root.mainloop()"
   ]
  },
  {
   "cell_type": "code",
   "execution_count": 1,
   "metadata": {},
   "outputs": [],
   "source": [
    "import cv2 \n",
    "import matplotlib.pyplot as plt"
   ]
  },
  {
   "cell_type": "code",
   "execution_count": 44,
   "metadata": {},
   "outputs": [],
   "source": [
    "img = cv2.imread(\"/home/crazy/buttons5.png\")"
   ]
  },
  {
   "cell_type": "code",
   "execution_count": 50,
   "metadata": {},
   "outputs": [],
   "source": [
    "img1 = cv2.imread(\"result.png\")"
   ]
  },
  {
   "cell_type": "code",
   "execution_count": 54,
   "metadata": {},
   "outputs": [],
   "source": [
    "from PIL import Image, ImageTk"
   ]
  },
  {
   "cell_type": "code",
   "execution_count": 55,
   "metadata": {},
   "outputs": [],
   "source": [
    "image = Image.open(\"result.png\")"
   ]
  },
  {
   "cell_type": "code",
   "execution_count": 56,
   "metadata": {},
   "outputs": [
    {
     "data": {
      "image/png": "[encoded data removed]",
      "text/plain": [
       "<PIL.PngImagePlugin.PngImageFile image mode=RGBA size=101x109 at 0x7F1B200768D0>"
      ]
     },
     "execution_count": 56,
     "metadata": {},
     "output_type": "execute_result"
    }
   ],
   "source": [
    "image"
   ]
  },
  {
   "cell_type": "code",
   "execution_count": null,
   "metadata": {},
   "outputs": [],
   "source": [
    "image = Image.open(\"result.png\")"
   ]
  },
  {
   "cell_type": "code",
   "execution_count": 52,
   "metadata": {},
   "outputs": [
    {
     "data": {
      "text/plain": [
       "<matplotlib.image.AxesImage at 0x7f1b2015fb90>"
      ]
     },
     "execution_count": 52,
     "metadata": {},
     "output_type": "execute_result"
    },
    {
     "data": {
      "image/png": "[encoded data removed]",
      "text/plain": [
       "<Figure size 432x288 with 1 Axes>"
      ]
     },
     "metadata": {
      "needs_background": "light"
     },
     "output_type": "display_data"
    }
   ],
   "source": [
    "plt.imshow(img1)"
   ]
  },
  {
   "cell_type": "code",
   "execution_count": 53,
   "metadata": {},
   "outputs": [
    {
     "data": {
      "text/plain": [
       "<matplotlib.image.AxesImage at 0x7f1b200c0d90>"
      ]
     },
     "execution_count": 53,
     "metadata": {},
     "output_type": "execute_result"
    },
    {
     "data": {
      "image/png": "[encoded data removed]",
      "text/plain": [
       "<Figure size 432x288 with 1 Axes>"
      ]
     },
     "metadata": {
      "needs_background": "light"
     },
     "output_type": "display_data"
    }
   ],
   "source": [
    "plt.imshow(img)"
   ]
  },
  {
   "cell_type": "code",
   "execution_count": null,
   "metadata": {},
   "outputs": [],
   "source": []
  },
  {
   "cell_type": "code",
   "execution_count": null,
   "metadata": {},
   "outputs": [],
   "source": []
  },
  {
   "cell_type": "code",
   "execution_count": 13,
   "metadata": {},
   "outputs": [],
   "source": [
    "def createbuttons(path):\n",
    "    import cv2 \n",
    "    import numpy as np \n",
    "    import matplotlib.pyplot as plt\n",
    "    img = cv2.imread(path)\n",
    "    x,y = img.shape[0],img.shape[1]\n",
    "    img = cv2.rectangle(img,(0,0),(y,x),color = (0,255,0),thickness = 2 )\n",
    "    # Add alpha layer with OpenCV\n",
    "    bgra = cv2.cvtColor(img, cv2.COLOR_BGR2BGRA) \n",
    "\n",
    "    # Set alpha layer semi-transparent with Numpy indexing, B=0, G=1, R=2, A=3\n",
    "    bgra[...,3] = 127\n",
    "\n",
    "    bgra\n",
    "    s = path[:-4]+\"active\"+path[-4:]\n",
    "    cv2.imwrite(s,bgra)\n",
    "    plt.imshow(bgra)"
   ]
  },
  {
   "cell_type": "code",
   "execution_count": 15,
   "metadata": {},
   "outputs": [
    {
     "data": {
      "image/png": "[encoded data removed]",
      "text/plain": [
       "<Figure size 432x288 with 1 Axes>"
      ]
     },
     "metadata": {
      "needs_background": "light"
     },
     "output_type": "display_data"
    }
   ],
   "source": [
    "createbuttons('/home/crazy/Downloads/input.png')"
   ]
  },
  {
   "cell_type": "code",
   "execution_count": 10,
   "metadata": {},
   "outputs": [],
   "source": [
    "s = '/home/crazy/buttons5.png'"
   ]
  },
  {
   "cell_type": "code",
   "execution_count": 12,
   "metadata": {},
   "outputs": [],
   "source": [
    "s = s[:-4]+\"active\"+s[-4:]"
   ]
  },
  {
   "cell_type": "code",
   "execution_count": 13,
   "metadata": {},
   "outputs": [
    {
     "data": {
      "text/plain": [
       "'/home/crazy/buttons5active.png'"
      ]
     },
     "execution_count": 13,
     "metadata": {},
     "output_type": "execute_result"
    }
   ],
   "source": [
    "s"
   ]
  },
  {
   "cell_type": "code",
   "execution_count": 43,
   "metadata": {},
   "outputs": [
    {
     "data": {
      "text/plain": [
       "<matplotlib.image.AxesImage at 0x7f1b2d4692d0>"
      ]
     },
     "execution_count": 43,
     "metadata": {},
     "output_type": "execute_result"
    },
    {
     "data": {
      "image/png": "[encoded data removed]",
      "text/plain": [
       "<Figure size 432x288 with 1 Axes>"
      ]
     },
     "metadata": {
      "needs_background": "light"
     },
     "output_type": "display_data"
    }
   ],
   "source": [
    "import cv2 \n",
    "import numpy as np \n",
    "img = cv2.imread('/home/crazy/buttons5.png')\n",
    "x,y = img.shape[0],img.shape[1]\n",
    "img = cv2.rectangle(img,(0,0),(y,x),color = (0,255,0),thickness = 2 )\n",
    "# Add alpha layer with OpenCV\n",
    "bgra = cv2.cvtColor(img, cv2.COLOR_BGR2BGRA) \n",
    "\n",
    "# Set alpha layer semi-transparent with Numpy indexing, B=0, G=1, R=2, A=3\n",
    "bgra[...,3] = 127\n",
    "\n",
    "bgra\n",
    "cv2.imwrite('result.png',bgra)\n",
    "plt.imshow(bgra)"
   ]
  },
  {
   "cell_type": "code",
   "execution_count": 15,
   "metadata": {},
   "outputs": [],
   "source": [
    "x,y = bgra.shape[0],bgra.shape[1]"
   ]
  },
  {
   "cell_type": "code",
   "execution_count": 16,
   "metadata": {},
   "outputs": [
    {
     "data": {
      "text/plain": [
       "(109, 101)"
      ]
     },
     "execution_count": 16,
     "metadata": {},
     "output_type": "execute_result"
    }
   ],
   "source": [
    "x,y"
   ]
  },
  {
   "cell_type": "code",
   "execution_count": 40,
   "metadata": {},
   "outputs": [],
   "source": [
    "bgra1 = cv2.rectangle(img,(0,0),(101,109),color = (0,255,0),thickness = 2 )"
   ]
  },
  {
   "cell_type": "code",
   "execution_count": null,
   "metadata": {},
   "outputs": [],
   "source": []
  },
  {
   "cell_type": "code",
   "execution_count": 41,
   "metadata": {},
   "outputs": [
    {
     "data": {
      "text/plain": [
       "<matplotlib.image.AxesImage at 0x7f1b2d49d450>"
      ]
     },
     "execution_count": 41,
     "metadata": {},
     "output_type": "execute_result"
    },
    {
     "data": {
      "image/png": "[encoded data removed]",
      "text/plain": [
       "<Figure size 432x288 with 1 Axes>"
      ]
     },
     "metadata": {
      "needs_background": "light"
     },
     "output_type": "display_data"
    }
   ],
   "source": [
    "plt.imshow(bgra1)"
   ]
  },
  {
   "cell_type": "code",
   "execution_count": null,
   "metadata": {},
   "outputs": [],
   "source": [
    "import numpy as np\n",
    "import cv2\n",
    "\n",
    "i = cv2.imread('/home/crazy/buttons5.png')\n",
    "img = np.array(i, dtype=np.float)\n",
    "img /= 255.0\n",
    "cv2.imshow('img',img)\n",
    "cv2.waitKey(0)\n",
    "\n",
    "#pre-multiplication\n",
    "a_channel = np.ones(img.shape, dtype=np.float)/2.0\n",
    "image = img*a_channel\n",
    "\n",
    "plt.imshow(image)"
   ]
  },
  {
   "cell_type": "code",
   "execution_count": null,
   "metadata": {},
   "outputs": [],
   "source": []
  },
  {
   "cell_type": "code",
   "execution_count": null,
   "metadata": {},
   "outputs": [],
   "source": []
  },
  {
   "cell_type": "code",
   "execution_count": null,
   "metadata": {},
   "outputs": [],
   "source": []
  },
  {
   "cell_type": "code",
   "execution_count": null,
   "metadata": {},
   "outputs": [],
   "source": []
  },
  {
   "cell_type": "code",
   "execution_count": null,
   "metadata": {},
   "outputs": [],
   "source": []
  },
  {
   "cell_type": "code",
   "execution_count": null,
   "metadata": {},
   "outputs": [],
   "source": []
  },
  {
   "cell_type": "code",
   "execution_count": null,
   "metadata": {},
   "outputs": [],
   "source": []
  }
 ],
 "metadata": {
  "kernelspec": {
   "display_name": "Python 3",
   "language": "python",
   "name": "python3"
  },
  "language_info": {
   "codemirror_mode": {
    "name": "ipython",
    "version": 3
   },
   "file_extension": ".py",
   "mimetype": "text/x-python",
   "name": "python",
   "nbconvert_exporter": "python",
   "pygments_lexer": "ipython3",
   "version": "3.7.6"
  }
 },
 "nbformat": 4,
 "nbformat_minor": 4
}
